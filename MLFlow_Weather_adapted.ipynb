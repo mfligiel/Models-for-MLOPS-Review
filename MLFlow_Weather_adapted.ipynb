{
  "nbformat": 4,
  "nbformat_minor": 0,
  "metadata": {
    "colab": {
      "name": "MLFlow_Weather_adapted.ipynb",
      "provenance": [],
      "collapsed_sections": [],
      "include_colab_link": true
    },
    "kernelspec": {
      "name": "python3",
      "display_name": "Python 3"
    },
    "language_info": {
      "name": "python"
    },
    "accelerator": "GPU"
  },
  "cells": [
    {
      "cell_type": "markdown",
      "metadata": {
        "id": "view-in-github",
        "colab_type": "text"
      },
      "source": [
        "<a href=\"https://colab.research.google.com/github/mfligiel/Models-for-MLOPS-Review/blob/main/MLFlow_Weather_adapted.ipynb\" target=\"_parent\"><img src=\"https://colab.research.google.com/assets/colab-badge.svg\" alt=\"Open In Colab\"/></a>"
      ]
    },
    {
      "cell_type": "markdown",
      "metadata": {
        "id": "cggaYqf1WqTV"
      },
      "source": [
        "# MLFlow\n",
        "\n",
        "**Topic**: MLFLOW: Model Monitoring using ML pipelines\n",
        "<br>\n",
        "**Problem**: Performance Classification Metrics on prediction of Weather \n",
        "<br>\n",
        "**Author**: Matthew Fligiel, adapted from Devanshi Verma"
      ]
    },
    {
      "cell_type": "code",
      "metadata": {
        "colab": {
          "base_uri": "https://localhost:8080/"
        },
        "id": "dj-o6OCqW7fa",
        "outputId": "b3f01103-8589-4266-931b-09754d8e044a"
      },
      "source": [
        "#loading the model\n",
        "#mounting the google drive\n",
        "from google.colab import drive\n",
        "drive.mount('/content/drive', force_remount=True)\n",
        "#!cd /content/drive/MyDrive/ModelMonitoringBlog"
      ],
      "execution_count": 1,
      "outputs": [
        {
          "output_type": "stream",
          "name": "stdout",
          "text": [
            "Mounted at /content/drive\n"
          ]
        }
      ]
    },
    {
      "cell_type": "code",
      "metadata": {
        "id": "lkKaOLe6YFYQ",
        "colab": {
          "base_uri": "https://localhost:8080/"
        },
        "outputId": "05868dee-0552-4a1e-e4ff-5cd68f15418f"
      },
      "source": [
        "#install mlflow and pyngrok\n",
        "!pip install mlflow --quiet\n",
        "!pip install pyngrok --quiet"
      ],
      "execution_count": 2,
      "outputs": [
        {
          "output_type": "stream",
          "name": "stdout",
          "text": [
            "\u001b[K     |████████████████████████████████| 14.6 MB 84 kB/s \n",
            "\u001b[K     |████████████████████████████████| 79 kB 7.6 MB/s \n",
            "\u001b[K     |████████████████████████████████| 636 kB 37.9 MB/s \n",
            "\u001b[K     |████████████████████████████████| 56 kB 4.6 MB/s \n",
            "\u001b[K     |████████████████████████████████| 170 kB 38.2 MB/s \n",
            "\u001b[K     |████████████████████████████████| 1.1 MB 38.6 MB/s \n",
            "\u001b[K     |████████████████████████████████| 145 kB 45.0 MB/s \n",
            "\u001b[K     |████████████████████████████████| 75 kB 4.5 MB/s \n",
            "\u001b[K     |████████████████████████████████| 52 kB 1.4 MB/s \n",
            "\u001b[K     |████████████████████████████████| 63 kB 1.8 MB/s \n",
            "\u001b[?25h  Building wheel for alembic (setup.py) ... \u001b[?25l\u001b[?25hdone\n",
            "  Building wheel for databricks-cli (setup.py) ... \u001b[?25l\u001b[?25hdone\n",
            "  Building wheel for prometheus-flask-exporter (setup.py) ... \u001b[?25l\u001b[?25hdone\n",
            "\u001b[K     |████████████████████████████████| 745 kB 5.2 MB/s \n",
            "\u001b[?25h  Building wheel for pyngrok (setup.py) ... \u001b[?25l\u001b[?25hdone\n"
          ]
        }
      ]
    },
    {
      "cell_type": "code",
      "metadata": {
        "id": "kZHgpUd5X0gS"
      },
      "source": [
        "#loading the libraries\n",
        "import os\n",
        "import pandas as pd\n",
        "import sklearn\n",
        "import joblib\n",
        "import pickle\n",
        "import numpy as np\n",
        "\n",
        "#logging\n",
        "import mlflow\n",
        "import mlflow.sklearn\n",
        "import logging\n",
        "from urllib.parse import urlparse\n",
        "from sklearn.metrics import mean_squared_error, mean_absolute_error, r2_score\n",
        "from pyngrok import ngrok\n"
      ],
      "execution_count": 24,
      "outputs": []
    },
    {
      "cell_type": "markdown",
      "metadata": {
        "id": "eIuJ3P4Fi_VM"
      },
      "source": [
        "## Loading in this data (once saved), and the model\n",
        "\n",
        "Now I can prep to predict, and see how different it really is."
      ]
    },
    {
      "cell_type": "code",
      "metadata": {
        "colab": {
          "base_uri": "https://localhost:8080/"
        },
        "id": "ml2Smw_dPOM7",
        "outputId": "0cb94fc6-42b5-4d31-efbb-89564c57fd55"
      },
      "source": [
        "!ls drive/MyDrive/ModelMonitoringBlog"
      ],
      "execution_count": 4,
      "outputs": [
        {
          "output_type": "stream",
          "name": "stdout",
          "text": [
            " Chicago.csv\n",
            " Detroit.csv\n",
            "'First take on Evidently, and potential Datasets, MF 6.18.21.gdoc'\n",
            " Milwaukee.csv\n",
            "'Model Code'\n",
            "'Notes, 6.23.2021.gdoc'\n",
            "'Notes 6.30.21.gdoc'\n",
            "'Notes, 7.14.21.gdoc'\n",
            "'Notes, 7.21.21.gdoc'\n",
            "'Notes, 7.7.21.gdoc'\n",
            "'Notes, 8.11.21.gdoc'\n",
            "'Notes, 8.25.21.gdoc'\n",
            " Omaha.csv\n",
            " reports\n",
            " Rupas_Files_WIP\n",
            " Rupas_Final_Files\n",
            " St_Louis.csv\n",
            "'Table of Contents.gdoc'\n",
            " Test.csv\n",
            " Toronto.csv\n",
            " Weather2020.csv\n",
            " weather_model.pkl\n"
          ]
        }
      ]
    },
    {
      "cell_type": "code",
      "metadata": {
        "id": "eYL_Lcpo27Fq"
      },
      "source": [
        "#load in data\n",
        "df = pd.read_csv(r'/content/drive/MyDrive/ModelMonitoringBlog/Test.csv')\n",
        "#load in model\n",
        "model = pickle.load(open(r'/content/drive/MyDrive/ModelMonitoringBlog/weather_model.pkl', 'rb'))"
      ],
      "execution_count": 5,
      "outputs": []
    },
    {
      "cell_type": "code",
      "metadata": {
        "id": "ZUeQ_M9pNnxl"
      },
      "source": [
        "#Now, to rename the columns\n",
        "df.columns = ['drp', 'city', 'date', 'maxtemp']\n",
        "df.drop('drp', axis=1, inplace=True)"
      ],
      "execution_count": 6,
      "outputs": []
    },
    {
      "cell_type": "code",
      "metadata": {
        "id": "N-IUEcndUGvD"
      },
      "source": [
        "#reshape the data\n",
        "df = df.pivot(index='date', columns='city', values='maxtemp')"
      ],
      "execution_count": 7,
      "outputs": []
    },
    {
      "cell_type": "code",
      "metadata": {
        "colab": {
          "base_uri": "https://localhost:8080/",
          "height": 234
        },
        "id": "jzyqpjhzUI_r",
        "outputId": "fa710fc4-6e0d-49ca-f6ad-848c80b23ee3"
      },
      "source": [
        "df.head()"
      ],
      "execution_count": 8,
      "outputs": [
        {
          "output_type": "execute_result",
          "data": {
            "text/html": [
              "<div>\n",
              "<style scoped>\n",
              "    .dataframe tbody tr th:only-of-type {\n",
              "        vertical-align: middle;\n",
              "    }\n",
              "\n",
              "    .dataframe tbody tr th {\n",
              "        vertical-align: top;\n",
              "    }\n",
              "\n",
              "    .dataframe thead th {\n",
              "        text-align: right;\n",
              "    }\n",
              "</style>\n",
              "<table border=\"1\" class=\"dataframe\">\n",
              "  <thead>\n",
              "    <tr style=\"text-align: right;\">\n",
              "      <th>city</th>\n",
              "      <th>Chicago</th>\n",
              "      <th>Detroit</th>\n",
              "      <th>Milwaukee</th>\n",
              "      <th>Omaha</th>\n",
              "      <th>St. Louis</th>\n",
              "      <th>Toronto</th>\n",
              "    </tr>\n",
              "    <tr>\n",
              "      <th>date</th>\n",
              "      <th></th>\n",
              "      <th></th>\n",
              "      <th></th>\n",
              "      <th></th>\n",
              "      <th></th>\n",
              "      <th></th>\n",
              "    </tr>\n",
              "  </thead>\n",
              "  <tbody>\n",
              "    <tr>\n",
              "      <th>2021-06-02</th>\n",
              "      <td>23.700</td>\n",
              "      <td>25.790</td>\n",
              "      <td>23.15</td>\n",
              "      <td>26.060</td>\n",
              "      <td>29.230</td>\n",
              "      <td>40.120</td>\n",
              "    </tr>\n",
              "    <tr>\n",
              "      <th>2021-06-03</th>\n",
              "      <td>24.420</td>\n",
              "      <td>24.910</td>\n",
              "      <td>22.73</td>\n",
              "      <td>27.475</td>\n",
              "      <td>28.090</td>\n",
              "      <td>41.715</td>\n",
              "    </tr>\n",
              "    <tr>\n",
              "      <th>2021-06-04</th>\n",
              "      <td>28.055</td>\n",
              "      <td>26.210</td>\n",
              "      <td>28.65</td>\n",
              "      <td>29.965</td>\n",
              "      <td>28.675</td>\n",
              "      <td>41.960</td>\n",
              "    </tr>\n",
              "    <tr>\n",
              "      <th>2021-06-05</th>\n",
              "      <td>30.675</td>\n",
              "      <td>30.885</td>\n",
              "      <td>31.51</td>\n",
              "      <td>33.610</td>\n",
              "      <td>30.565</td>\n",
              "      <td>42.410</td>\n",
              "    </tr>\n",
              "    <tr>\n",
              "      <th>2021-06-06</th>\n",
              "      <td>31.375</td>\n",
              "      <td>31.790</td>\n",
              "      <td>31.80</td>\n",
              "      <td>33.165</td>\n",
              "      <td>33.330</td>\n",
              "      <td>42.070</td>\n",
              "    </tr>\n",
              "  </tbody>\n",
              "</table>\n",
              "</div>"
            ],
            "text/plain": [
              "city        Chicago  Detroit  Milwaukee   Omaha  St. Louis  Toronto\n",
              "date                                                               \n",
              "2021-06-02   23.700   25.790      23.15  26.060     29.230   40.120\n",
              "2021-06-03   24.420   24.910      22.73  27.475     28.090   41.715\n",
              "2021-06-04   28.055   26.210      28.65  29.965     28.675   41.960\n",
              "2021-06-05   30.675   30.885      31.51  33.610     30.565   42.410\n",
              "2021-06-06   31.375   31.790      31.80  33.165     33.330   42.070"
            ]
          },
          "metadata": {},
          "execution_count": 8
        }
      ]
    },
    {
      "cell_type": "markdown",
      "metadata": {
        "id": "kH-oonl3TkE-"
      },
      "source": [
        "Let's make a prediction."
      ]
    },
    {
      "cell_type": "code",
      "metadata": {
        "id": "4RNUi0-EULLs"
      },
      "source": [
        "predictions = model.predict(df.drop('Chicago', axis=1))"
      ],
      "execution_count": 9,
      "outputs": []
    },
    {
      "cell_type": "code",
      "metadata": {
        "colab": {
          "base_uri": "https://localhost:8080/"
        },
        "id": "0Kaqpf8BVBme",
        "outputId": "ccea70b8-c42b-4cb4-9080-421b3a05cfc8"
      },
      "source": [
        "df['Chicago'] - predictions"
      ],
      "execution_count": 10,
      "outputs": [
        {
          "output_type": "execute_result",
          "data": {
            "text/plain": [
              "date\n",
              "2021-06-02    0.252094\n",
              "2021-06-03    1.663958\n",
              "2021-06-04    1.463601\n",
              "2021-06-05    0.412679\n",
              "2021-06-06    0.194342\n",
              "2021-06-07    1.332528\n",
              "2021-06-08    0.825372\n",
              "2021-06-09    0.262758\n",
              "2021-06-10   -1.233267\n",
              "2021-06-11   -0.465028\n",
              "2021-06-12   -0.681110\n",
              "2021-06-13   -0.408895\n",
              "2021-06-14   -0.015240\n",
              "2021-06-15    0.750277\n",
              "Name: Chicago, dtype: float64"
            ]
          },
          "metadata": {},
          "execution_count": 10
        }
      ]
    },
    {
      "cell_type": "markdown",
      "metadata": {
        "id": "q0wBlJKrPtl0"
      },
      "source": [
        "LEFT OFF POINT IN CONVERSION"
      ]
    },
    {
      "cell_type": "code",
      "metadata": {
        "id": "4fbrIw3tQY6J",
        "colab": {
          "base_uri": "https://localhost:8080/"
        },
        "outputId": "ca9d8bb8-914f-44ce-b512-9d063a877e88"
      },
      "source": [
        "#re creating the dictionary above \n",
        "cities = {'Milwaukee':'2451822', 'Detroit':'2391585', 'Toronto':'4118', 'St. Louis':'2486982', 'Omaha':'2465512', 'Chicago':'2379574'}\n",
        "\n",
        "df_old = pd.DataFrame()\n",
        "\n",
        "for i in cities.keys():\n",
        "  if i == 'St. Louis':\n",
        "    i = 'St_Louis'\n",
        "  pth = \"drive/MyDrive/ModelMonitoringBlog/\" + i + \".csv\"\n",
        "  print(pth)\n",
        "  to_append = pd.read_csv(pth)\n",
        "  #print(to_append.head())\n",
        "  if df_old.empty:\n",
        "    df_old = to_append\n",
        "    print(df_old.empty)\n",
        "  else:\n",
        "    df_old = pd.concat([df_old, to_append], ignore_index=True)\n",
        "  \n"
      ],
      "execution_count": 14,
      "outputs": [
        {
          "output_type": "stream",
          "name": "stdout",
          "text": [
            "drive/MyDrive/ModelMonitoringBlog/Milwaukee.csv\n",
            "False\n",
            "drive/MyDrive/ModelMonitoringBlog/Detroit.csv\n",
            "drive/MyDrive/ModelMonitoringBlog/Toronto.csv\n",
            "drive/MyDrive/ModelMonitoringBlog/St_Louis.csv\n",
            "drive/MyDrive/ModelMonitoringBlog/Omaha.csv\n",
            "drive/MyDrive/ModelMonitoringBlog/Chicago.csv\n"
          ]
        }
      ]
    },
    {
      "cell_type": "code",
      "metadata": {
        "id": "k6sHv3evQZu2"
      },
      "source": [
        "#Now, to rename the columns\n",
        "df_old.columns = ['drp', 'city', 'date', 'maxtemp']\n",
        "df_old.drop('drp', axis=1, inplace=True)\n",
        "df_old = df_old.pivot(index='date', columns='city', values='maxtemp')"
      ],
      "execution_count": 15,
      "outputs": []
    },
    {
      "cell_type": "code",
      "metadata": {
        "colab": {
          "base_uri": "https://localhost:8080/",
          "height": 234
        },
        "id": "6yUq-FO04-mo",
        "outputId": "caa4a36f-e2a2-49d4-fb7c-b3efd5dfbbe9"
      },
      "source": [
        "#looking at the data\n",
        "df_old.head()"
      ],
      "execution_count": 16,
      "outputs": [
        {
          "output_type": "execute_result",
          "data": {
            "text/html": [
              "<div>\n",
              "<style scoped>\n",
              "    .dataframe tbody tr th:only-of-type {\n",
              "        vertical-align: middle;\n",
              "    }\n",
              "\n",
              "    .dataframe tbody tr th {\n",
              "        vertical-align: top;\n",
              "    }\n",
              "\n",
              "    .dataframe thead th {\n",
              "        text-align: right;\n",
              "    }\n",
              "</style>\n",
              "<table border=\"1\" class=\"dataframe\">\n",
              "  <thead>\n",
              "    <tr style=\"text-align: right;\">\n",
              "      <th>city</th>\n",
              "      <th>Chicago</th>\n",
              "      <th>Detroit</th>\n",
              "      <th>Milwaukee</th>\n",
              "      <th>Omaha</th>\n",
              "      <th>St. Louis</th>\n",
              "      <th>Toronto</th>\n",
              "    </tr>\n",
              "    <tr>\n",
              "      <th>date</th>\n",
              "      <th></th>\n",
              "      <th></th>\n",
              "      <th></th>\n",
              "      <th></th>\n",
              "      <th></th>\n",
              "      <th></th>\n",
              "    </tr>\n",
              "  </thead>\n",
              "  <tbody>\n",
              "    <tr>\n",
              "      <th>2021-03-02</th>\n",
              "      <td>6.060</td>\n",
              "      <td>8.360</td>\n",
              "      <td>3.505</td>\n",
              "      <td>7.590</td>\n",
              "      <td>15.105</td>\n",
              "      <td>6.035</td>\n",
              "    </tr>\n",
              "    <tr>\n",
              "      <th>2021-03-03</th>\n",
              "      <td>6.100</td>\n",
              "      <td>6.820</td>\n",
              "      <td>7.490</td>\n",
              "      <td>14.695</td>\n",
              "      <td>15.480</td>\n",
              "      <td>3.360</td>\n",
              "    </tr>\n",
              "    <tr>\n",
              "      <th>2021-03-04</th>\n",
              "      <td>10.150</td>\n",
              "      <td>12.215</td>\n",
              "      <td>9.355</td>\n",
              "      <td>17.600</td>\n",
              "      <td>20.425</td>\n",
              "      <td>7.225</td>\n",
              "    </tr>\n",
              "    <tr>\n",
              "      <th>2021-03-05</th>\n",
              "      <td>9.785</td>\n",
              "      <td>11.255</td>\n",
              "      <td>9.935</td>\n",
              "      <td>17.770</td>\n",
              "      <td>18.550</td>\n",
              "      <td>7.525</td>\n",
              "    </tr>\n",
              "    <tr>\n",
              "      <th>2021-03-06</th>\n",
              "      <td>8.965</td>\n",
              "      <td>10.325</td>\n",
              "      <td>9.345</td>\n",
              "      <td>17.010</td>\n",
              "      <td>19.070</td>\n",
              "      <td>7.010</td>\n",
              "    </tr>\n",
              "  </tbody>\n",
              "</table>\n",
              "</div>"
            ],
            "text/plain": [
              "city        Chicago  Detroit  Milwaukee   Omaha  St. Louis  Toronto\n",
              "date                                                               \n",
              "2021-03-02    6.060    8.360      3.505   7.590     15.105    6.035\n",
              "2021-03-03    6.100    6.820      7.490  14.695     15.480    3.360\n",
              "2021-03-04   10.150   12.215      9.355  17.600     20.425    7.225\n",
              "2021-03-05    9.785   11.255      9.935  17.770     18.550    7.525\n",
              "2021-03-06    8.965   10.325      9.345  17.010     19.070    7.010"
            ]
          },
          "metadata": {},
          "execution_count": 16
        }
      ]
    },
    {
      "cell_type": "code",
      "metadata": {
        "colab": {
          "base_uri": "https://localhost:8080/",
          "height": 234
        },
        "id": "1OydMSSi5A5c",
        "outputId": "8db83483-156a-47c4-f496-ca1cfbbbad86"
      },
      "source": [
        "#looking at the data again\n",
        "df.head()"
      ],
      "execution_count": 17,
      "outputs": [
        {
          "output_type": "execute_result",
          "data": {
            "text/html": [
              "<div>\n",
              "<style scoped>\n",
              "    .dataframe tbody tr th:only-of-type {\n",
              "        vertical-align: middle;\n",
              "    }\n",
              "\n",
              "    .dataframe tbody tr th {\n",
              "        vertical-align: top;\n",
              "    }\n",
              "\n",
              "    .dataframe thead th {\n",
              "        text-align: right;\n",
              "    }\n",
              "</style>\n",
              "<table border=\"1\" class=\"dataframe\">\n",
              "  <thead>\n",
              "    <tr style=\"text-align: right;\">\n",
              "      <th>city</th>\n",
              "      <th>Chicago</th>\n",
              "      <th>Detroit</th>\n",
              "      <th>Milwaukee</th>\n",
              "      <th>Omaha</th>\n",
              "      <th>St. Louis</th>\n",
              "      <th>Toronto</th>\n",
              "    </tr>\n",
              "    <tr>\n",
              "      <th>date</th>\n",
              "      <th></th>\n",
              "      <th></th>\n",
              "      <th></th>\n",
              "      <th></th>\n",
              "      <th></th>\n",
              "      <th></th>\n",
              "    </tr>\n",
              "  </thead>\n",
              "  <tbody>\n",
              "    <tr>\n",
              "      <th>2021-06-02</th>\n",
              "      <td>23.700</td>\n",
              "      <td>25.790</td>\n",
              "      <td>23.15</td>\n",
              "      <td>26.060</td>\n",
              "      <td>29.230</td>\n",
              "      <td>40.120</td>\n",
              "    </tr>\n",
              "    <tr>\n",
              "      <th>2021-06-03</th>\n",
              "      <td>24.420</td>\n",
              "      <td>24.910</td>\n",
              "      <td>22.73</td>\n",
              "      <td>27.475</td>\n",
              "      <td>28.090</td>\n",
              "      <td>41.715</td>\n",
              "    </tr>\n",
              "    <tr>\n",
              "      <th>2021-06-04</th>\n",
              "      <td>28.055</td>\n",
              "      <td>26.210</td>\n",
              "      <td>28.65</td>\n",
              "      <td>29.965</td>\n",
              "      <td>28.675</td>\n",
              "      <td>41.960</td>\n",
              "    </tr>\n",
              "    <tr>\n",
              "      <th>2021-06-05</th>\n",
              "      <td>30.675</td>\n",
              "      <td>30.885</td>\n",
              "      <td>31.51</td>\n",
              "      <td>33.610</td>\n",
              "      <td>30.565</td>\n",
              "      <td>42.410</td>\n",
              "    </tr>\n",
              "    <tr>\n",
              "      <th>2021-06-06</th>\n",
              "      <td>31.375</td>\n",
              "      <td>31.790</td>\n",
              "      <td>31.80</td>\n",
              "      <td>33.165</td>\n",
              "      <td>33.330</td>\n",
              "      <td>42.070</td>\n",
              "    </tr>\n",
              "  </tbody>\n",
              "</table>\n",
              "</div>"
            ],
            "text/plain": [
              "city        Chicago  Detroit  Milwaukee   Omaha  St. Louis  Toronto\n",
              "date                                                               \n",
              "2021-06-02   23.700   25.790      23.15  26.060     29.230   40.120\n",
              "2021-06-03   24.420   24.910      22.73  27.475     28.090   41.715\n",
              "2021-06-04   28.055   26.210      28.65  29.965     28.675   41.960\n",
              "2021-06-05   30.675   30.885      31.51  33.610     30.565   42.410\n",
              "2021-06-06   31.375   31.790      31.80  33.165     33.330   42.070"
            ]
          },
          "metadata": {},
          "execution_count": 17
        }
      ]
    },
    {
      "cell_type": "markdown",
      "metadata": {
        "id": "OvVK-Asl5Fni"
      },
      "source": [
        "Now that all of the data has been loaded, we can use mlflow to perform a run with the new and old models.  In the version being adapted from, there is a focus on metrics for classification; here the focus will be on regression.\n",
        "\n",
        "First, code from the <a href=\"mlflow.org/docs/latest/tutorials-and-examples/tutorial.html\">mlflow website</a> about setting up evaluation metrics:"
      ]
    },
    {
      "cell_type": "code",
      "metadata": {
        "id": "d0h0usBw6tr6"
      },
      "source": [
        "def eval_metrics(actual, pred):\n",
        "    rmse = np.sqrt(mean_squared_error(actual, pred))\n",
        "    mae = mean_absolute_error(actual, pred)\n",
        "    r2 = r2_score(actual, pred)\n",
        "    return rmse, mae, r2\n"
      ],
      "execution_count": 22,
      "outputs": []
    },
    {
      "cell_type": "code",
      "metadata": {
        "id": "f6BxMFTTb3sG",
        "colab": {
          "base_uri": "https://localhost:8080/"
        },
        "outputId": "55fe81fa-786a-4d37-d88c-8dd8ff763adf"
      },
      "source": [
        "with mlflow.start_run(run_name = \"00-Original-Training\"):\n",
        "    #using the fitted model\n",
        "        predicted_qualities = model.predict(df_old.drop('Chicago', axis=1))\n",
        "\n",
        "        (rmse, mae, r2) = eval_metrics(df_old['Chicago'], predicted_qualities)\n",
        "\n",
        "        print(\"  RMSE: %s\" % rmse)\n",
        "        print(\"  MAE: %s\" % mae)\n",
        "        print(\"  R2: %s\" % r2)\n",
        "\n",
        "        mlflow.log_metric(\"rmse\", rmse)\n",
        "        mlflow.log_metric(\"r2\", r2)\n",
        "        mlflow.log_metric(\"mae\", mae)\n",
        "\n",
        "        tracking_url_type_store = urlparse(mlflow.get_tracking_uri()).scheme\n",
        "\n",
        "        # Model registry does not work with file store\n",
        "        if tracking_url_type_store != \"file\":\n",
        "\n",
        "            # Register the model\n",
        "            # There are other ways to use the Model Registry, which depends on the use case,\n",
        "            # please refer to the doc for more information:\n",
        "            # https://mlflow.org/docs/latest/model-registry.html#api-workflow\n",
        "            mlflow.sklearn.log_model(model, \"model with original data\", registered_model_name=\"OrigData\")\n",
        "        else:\n",
        "            mlflow.sklearn.log_model(model, \"model with original data\")"
      ],
      "execution_count": 29,
      "outputs": [
        {
          "output_type": "stream",
          "name": "stdout",
          "text": [
            "  RMSE: 1.22873218125703\n",
            "  MAE: 0.9610292016803056\n",
            "  R2: 0.9582508175292798\n"
          ]
        }
      ]
    },
    {
      "cell_type": "code",
      "metadata": {
        "id": "E4j0I03Ph7sq",
        "colab": {
          "base_uri": "https://localhost:8080/"
        },
        "outputId": "6355b98c-8cd7-4bfe-eae3-a4e76eefc44c"
      },
      "source": [
        "with mlflow.start_run(run_name = \"01-New-Data\"):\n",
        "    #using the fitted model\n",
        "        predicted_qualities = model.predict(df.drop('Chicago', axis=1))\n",
        "\n",
        "        (rmse, mae, r2) = eval_metrics(df['Chicago'], predicted_qualities)\n",
        "\n",
        "        print(\"  RMSE: %s\" % rmse)\n",
        "        print(\"  MAE: %s\" % mae)\n",
        "        print(\"  R2: %s\" % r2)\n",
        "\n",
        "        mlflow.log_metric(\"rmse\", rmse)\n",
        "        mlflow.log_metric(\"r2\", r2)\n",
        "        mlflow.log_metric(\"mae\", mae)\n",
        "\n",
        "        tracking_url_type_store = urlparse(mlflow.get_tracking_uri()).scheme\n",
        "\n",
        "        # Model registry does not work with file store\n",
        "        if tracking_url_type_store != \"file\":\n",
        "\n",
        "            # Register the model\n",
        "            # There are other ways to use the Model Registry, which depends on the use case,\n",
        "            # please refer to the doc for more information:\n",
        "            # https://mlflow.org/docs/latest/model-registry.html#api-workflow\n",
        "            mlflow.sklearn.log_model(model, \"model with newer data\", registered_model_name=\"NewData\")\n",
        "        else:\n",
        "            mlflow.sklearn.log_model(model, \"model with newer data\")"
      ],
      "execution_count": 30,
      "outputs": [
        {
          "output_type": "stream",
          "name": "stdout",
          "text": [
            "  RMSE: 0.8717745040233268\n",
            "  MAE: 0.7115106165145207\n",
            "  R2: 0.8482232858273254\n"
          ]
        }
      ]
    },
    {
      "cell_type": "code",
      "metadata": {
        "id": "byDvzScYQSTx",
        "colab": {
          "base_uri": "https://localhost:8080/"
        },
        "outputId": "2906b0d5-afa7-454c-9367-14deb67d7c2c"
      },
      "source": [
        "get_ipython().system_raw(\"mlflow ui --port 5000 &\")\n",
        "ngrok.kill()\n",
        "NGROK_AUTH_TOKEN = \"\"\n",
        "ngrok.set_auth_token(NGROK_AUTH_TOKEN)\n",
        "ngrok_tunnel = ngrok.connect(addr=\"5000\", proto=\"http\", bind_tls=True)\n",
        "print(\"MLflow Tracking UI:\", ngrok_tunnel.public_url)"
      ],
      "execution_count": 28,
      "outputs": [
        {
          "output_type": "stream",
          "name": "stdout",
          "text": [
            "MLflow Tracking UI: https://c9e4-35-193-226-166.ngrok.io\n"
          ]
        }
      ]
    },
    {
      "cell_type": "code",
      "metadata": {
        "id": "xNiHFyGN7zsE"
      },
      "source": [
        ""
      ],
      "execution_count": null,
      "outputs": []
    }
  ]
}