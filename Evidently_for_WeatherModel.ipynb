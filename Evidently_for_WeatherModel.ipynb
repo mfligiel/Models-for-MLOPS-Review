{
  "nbformat": 4,
  "nbformat_minor": 0,
  "metadata": {
    "colab": {
      "name": "Evidently for WeatherModel.ipynb",
      "provenance": [],
      "collapsed_sections": [],
      "authorship_tag": "ABX9TyPB4fjdxYlrhuOYDFWaM94w",
      "include_colab_link": true
    },
    "kernelspec": {
      "name": "python3",
      "display_name": "Python 3"
    },
    "language_info": {
      "name": "python"
    }
  },
  "cells": [
    {
      "cell_type": "markdown",
      "metadata": {
        "id": "view-in-github",
        "colab_type": "text"
      },
      "source": [
        "<a href=\"https://colab.research.google.com/github/mfligiel/Models-for-MLOPS-Review/blob/main/Evidently_for_WeatherModel.ipynb\" target=\"_parent\"><img src=\"https://colab.research.google.com/assets/colab-badge.svg\" alt=\"Open In Colab\"/></a>"
      ]
    },
    {
      "cell_type": "markdown",
      "metadata": {
        "id": "aqFUAqIRsChP"
      },
      "source": [
        "## Weather Data\n",
        "\n",
        "I am going to predict Chicago's weather from the weather of 5 other places nearby using a weather API.  This model isn't the most useful, but is good for showcasing model monitoring.\n",
        "\n",
        "Here, I will pull in some June data, but replacing Toronto with Phoenix.  A bit of a different temperature distribution!"
      ]
    },
    {
      "cell_type": "code",
      "metadata": {
        "colab": {
          "base_uri": "https://localhost:8080/"
        },
        "id": "r-EYgp8ThUj1",
        "outputId": "711558ff-f4e4-4bbb-d578-430d49d0b4b7"
      },
      "source": [
        "!pip install evidently"
      ],
      "execution_count": 1,
      "outputs": [
        {
          "output_type": "stream",
          "text": [
            "Collecting evidently\n",
            "\u001b[?25l  Downloading https://files.pythonhosted.org/packages/8b/64/817e8fb176d8393eb2b49f5650957e7ddb11dc3f9d531deb9e26036f8553/evidently-0.1.19.dev0-py3-none-any.whl (15.2MB)\n",
            "\u001b[K     |████████████████████████████████| 15.2MB 185kB/s \n",
            "\u001b[?25hRequirement already satisfied: pandas in /usr/local/lib/python3.7/dist-packages (from evidently) (1.1.5)\n",
            "Requirement already satisfied: scipy in /usr/local/lib/python3.7/dist-packages (from evidently) (1.4.1)\n",
            "Requirement already satisfied: plotly in /usr/local/lib/python3.7/dist-packages (from evidently) (4.4.1)\n",
            "Requirement already satisfied: scikit-learn>=0.22.1 in /usr/local/lib/python3.7/dist-packages (from evidently) (0.22.2.post1)\n",
            "Requirement already satisfied: numpy in /usr/local/lib/python3.7/dist-packages (from evidently) (1.19.5)\n",
            "Collecting dataclasses\n",
            "  Downloading https://files.pythonhosted.org/packages/26/2f/1095cdc2868052dd1e64520f7c0d5c8c550ad297e944e641dbf1ffbb9a5d/dataclasses-0.6-py3-none-any.whl\n",
            "Requirement already satisfied: pyyaml in /usr/local/lib/python3.7/dist-packages (from evidently) (3.13)\n",
            "Requirement already satisfied: statsmodels in /usr/local/lib/python3.7/dist-packages (from evidently) (0.10.2)\n",
            "Requirement already satisfied: pytz>=2017.2 in /usr/local/lib/python3.7/dist-packages (from pandas->evidently) (2018.9)\n",
            "Requirement already satisfied: python-dateutil>=2.7.3 in /usr/local/lib/python3.7/dist-packages (from pandas->evidently) (2.8.1)\n",
            "Requirement already satisfied: retrying>=1.3.3 in /usr/local/lib/python3.7/dist-packages (from plotly->evidently) (1.3.3)\n",
            "Requirement already satisfied: six in /usr/local/lib/python3.7/dist-packages (from plotly->evidently) (1.15.0)\n",
            "Requirement already satisfied: joblib>=0.11 in /usr/local/lib/python3.7/dist-packages (from scikit-learn>=0.22.1->evidently) (1.0.1)\n",
            "Requirement already satisfied: patsy>=0.4.0 in /usr/local/lib/python3.7/dist-packages (from statsmodels->evidently) (0.5.1)\n",
            "Installing collected packages: dataclasses, evidently\n",
            "Successfully installed dataclasses-0.6 evidently-0.1.19.dev0\n"
          ],
          "name": "stdout"
        }
      ]
    },
    {
      "cell_type": "code",
      "metadata": {
        "id": "klZ4kTLvsvNF"
      },
      "source": [
        "import requests\n",
        "import pandas as pd\n",
        "import time\n",
        "from sklearn.model_selection import train_test_split\n",
        "from sklearn.model_selection import GridSearchCV\n",
        "from sklearn.svm import SVR\n",
        "import evidently"
      ],
      "execution_count": 2,
      "outputs": []
    },
    {
      "cell_type": "code",
      "metadata": {
        "colab": {
          "base_uri": "https://localhost:8080/"
        },
        "id": "_rXd3KU_9E0A",
        "outputId": "8b3b03bd-30b8-4528-8225-d5bec209d595"
      },
      "source": [
        "\n",
        "from google.colab import drive\n",
        "drive.mount('/content/gdrive')"
      ],
      "execution_count": 3,
      "outputs": [
        {
          "output_type": "stream",
          "text": [
            "Mounted at /content/gdrive\n"
          ],
          "name": "stdout"
        }
      ]
    },
    {
      "cell_type": "markdown",
      "metadata": {
        "id": "tfXGVr_z3n_a"
      },
      "source": [
        "This should work!  I'll now find the IDs of 5 cities I will use to predict Chicago's weather:\n",
        "\n",
        "Milwaukee\\\n",
        "Detroit\\\n",
        "Toronto\\\n",
        "St Louis\\\n",
        "Omaha, NE\n",
        "\n",
        "\n",
        "I'll use this site to look it up: https://www.findmecity.com/\n",
        "\n",
        "Milwaukee: 2451822\\\n",
        "Detroit: 2391585 \\\n",
        "Toronto: 4118\\\n",
        "St. Louis: 2486982\\\n",
        "Omaha, NE: 2465512\n",
        "\n",
        "I'll switch Toronto's WOEID for that of Phoenix: 2471390\n"
      ]
    },
    {
      "cell_type": "code",
      "metadata": {
        "colab": {
          "base_uri": "https://localhost:8080/"
        },
        "id": "9pVej1aQ2i6K",
        "outputId": "2d887dea-0113-4626-ce07-d39de8b414b2"
      },
      "source": [
        "#dictionary of cities\n",
        "cities = {'Milwaukee':'2451822', 'Detroit':'2391585', 'Toronto':'2471390', 'St. Louis':'2486982', 'Omaha':'2465512', 'Chicago':'2379574'} #phoenix for toronto\n",
        "\n",
        "#empty list to enter these into:\n",
        "values = []\n",
        "\n",
        "#loop through cities\n",
        "for k, v in cities.items():\n",
        "  #loop through 3 months\n",
        "  for mth in ['6']:\n",
        "    #just do days through 30, it's not time series, I don't care\n",
        "    for day in range(1, 15):\n",
        "      #what to request\n",
        "      strng = 'https://www.metaweather.com/api/location/' + v +'/2021/' + mth + '/' +str(day) + '/'\n",
        "      if day == 1:\n",
        "        print(strng)\n",
        "      reqst = requests.get(strng)\n",
        "      #get the pieces\n",
        "      date = pd.to_datetime(pd.DataFrame(reqst.json()).max()['created']).date()\n",
        "      maxtemp = pd.DataFrame(reqst.json()).max()['max_temp']\n",
        "      values.append([k, date, maxtemp])\n",
        "      time.sleep(3)\n",
        "\n",
        "\n",
        "\n"
      ],
      "execution_count": null,
      "outputs": [
        {
          "output_type": "stream",
          "text": [
            "https://www.metaweather.com/api/location/2451822/2021/6/1/\n"
          ],
          "name": "stdout"
        }
      ]
    },
    {
      "cell_type": "code",
      "metadata": {
        "id": "3V40g9R4rpHL"
      },
      "source": [
        "import pickle\n",
        "\n",
        "#pickle.dump(values, open('.pkl', 'wb'))"
      ],
      "execution_count": null,
      "outputs": []
    },
    {
      "cell_type": "code",
      "metadata": {
        "id": "BpFuwIRNwWJR"
      },
      "source": [
        "pd.DataFrame(values).to_csv('Chicago.csv')"
      ],
      "execution_count": null,
      "outputs": []
    },
    {
      "cell_type": "code",
      "metadata": {
        "id": "5viSSBuk8ySS",
        "colab": {
          "base_uri": "https://localhost:8080/"
        },
        "outputId": "ecaede43-6def-4f5a-f5d3-3e06a0254c96"
      },
      "source": [
        "!ls"
      ],
      "execution_count": null,
      "outputs": [
        {
          "output_type": "stream",
          "text": [
            "Chicago.csv  gdrive  sample_data\n"
          ],
          "name": "stdout"
        }
      ]
    },
    {
      "cell_type": "code",
      "metadata": {
        "id": "UPk1oOn1214M"
      },
      "source": [
        "!cp Chicago.csv gdrive/MyDrive"
      ],
      "execution_count": null,
      "outputs": []
    },
    {
      "cell_type": "code",
      "metadata": {
        "id": "eYL_Lcpo27Fq"
      },
      "source": [
        ""
      ],
      "execution_count": null,
      "outputs": []
    },
    {
      "cell_type": "markdown",
      "metadata": {
        "id": "U61P-oYJKuql"
      },
      "source": [
        "Now that this is pulled in, I can begin doing a basic model.  Given that this is mostly for the purpose of tracking, I am fine with just making and SVM and doing minimal hyperparameter optimization.\n",
        "\n",
        "To do this, I will\n",
        "- load the files\n",
        "- pivot them according to city\n",
        "- drop date column (I am ignoring time series aspect here)\n",
        "- run a quick grid search"
      ]
    },
    {
      "cell_type": "code",
      "metadata": {
        "colab": {
          "base_uri": "https://localhost:8080/"
        },
        "id": "a4zJiN_LKtrQ",
        "outputId": "f34a4d9b-426b-4744-f99c-afc00d6b5ef9"
      },
      "source": [
        "!ls gdrive/MyDrive/ModelMonitoringBlog/"
      ],
      "execution_count": null,
      "outputs": [
        {
          "output_type": "stream",
          "text": [
            " Chicago.csv\n",
            " Detroit.csv\n",
            "'First take on Evidently, and potential Datasets, MF 6.18.21.gdoc'\n",
            " Milwaukee.csv\n",
            "'Model Code'\n",
            "'Notes, 6.23.2021.gdoc'\n",
            " Omaha.csv\n",
            " St_Louis.csv\n",
            "'Table of Contents.gdoc'\n",
            " Toronto.csv\n"
          ],
          "name": "stdout"
        }
      ]
    },
    {
      "cell_type": "code",
      "metadata": {
        "colab": {
          "base_uri": "https://localhost:8080/"
        },
        "id": "UgMljxxqLRVw",
        "outputId": "055e0668-45f3-4dd7-8d32-d79f2d840229"
      },
      "source": [
        "#re creating the dictionary above \n",
        "cities = {'Milwaukee':'2451822', 'Detroit':'2391585', 'Toronto':'4118', 'St. Louis':'2486982', 'Omaha':'2465512', 'Chicago':'2379574'}\n",
        "\n",
        "df = pd.DataFrame()\n",
        "\n",
        "for i in cities.keys():\n",
        "  if i == 'St. Louis':\n",
        "    i = 'St_Louis'\n",
        "  pth = \"gdrive/MyDrive/ModelMonitoringBlog/\" + i + \".csv\"\n",
        "  print(pth)\n",
        "  to_append = pd.read_csv(pth)\n",
        "  print(to_append.head())\n",
        "  if df.empty:\n",
        "    df = to_append\n",
        "    print(df.empty)\n",
        "  else:\n",
        "    df = pd.concat([df, to_append], ignore_index=True)\n",
        "  \n"
      ],
      "execution_count": null,
      "outputs": [
        {
          "output_type": "stream",
          "text": [
            "gdrive/MyDrive/ModelMonitoringBlog/Milwaukee.csv\n",
            "   Unnamed: 0          0           1      2\n",
            "0           0  Milwaukee  2021-03-02  3.505\n",
            "1           1  Milwaukee  2021-03-03  7.490\n",
            "2           2  Milwaukee  2021-03-04  9.355\n",
            "3           3  Milwaukee  2021-03-05  9.935\n",
            "4           4  Milwaukee  2021-03-06  9.345\n",
            "False\n",
            "gdrive/MyDrive/ModelMonitoringBlog/Detroit.csv\n",
            "   Unnamed: 0        0           1       2\n",
            "0           0  Detroit  2021-03-02   8.360\n",
            "1           1  Detroit  2021-03-03   6.820\n",
            "2           2  Detroit  2021-03-04  12.215\n",
            "3           3  Detroit  2021-03-05  11.255\n",
            "4           4  Detroit  2021-03-06  10.325\n",
            "gdrive/MyDrive/ModelMonitoringBlog/Toronto.csv\n",
            "   Unnamed: 0        0           1      2\n",
            "0           0  Toronto  2021-03-02  6.035\n",
            "1           1  Toronto  2021-03-03  3.360\n",
            "2           2  Toronto  2021-03-04  7.225\n",
            "3           3  Toronto  2021-03-05  7.525\n",
            "4           4  Toronto  2021-03-06  7.010\n",
            "gdrive/MyDrive/ModelMonitoringBlog/St_Louis.csv\n",
            "   Unnamed: 0          0           1       2\n",
            "0           0  St. Louis  2021-03-02  15.105\n",
            "1           1  St. Louis  2021-03-03  15.480\n",
            "2           2  St. Louis  2021-03-04  20.425\n",
            "3           3  St. Louis  2021-03-05  18.550\n",
            "4           4  St. Louis  2021-03-06  19.070\n",
            "gdrive/MyDrive/ModelMonitoringBlog/Omaha.csv\n",
            "   Unnamed: 0      0           1       2\n",
            "0           0  Omaha  2021-03-02   7.590\n",
            "1           1  Omaha  2021-03-03  14.695\n",
            "2           2  Omaha  2021-03-04  17.600\n",
            "3           3  Omaha  2021-03-05  17.770\n",
            "4           4  Omaha  2021-03-06  17.010\n",
            "gdrive/MyDrive/ModelMonitoringBlog/Chicago.csv\n",
            "   Unnamed: 0        0           1       2\n",
            "0           0  Chicago  2021-03-02   6.060\n",
            "1           1  Chicago  2021-03-03   6.100\n",
            "2           2  Chicago  2021-03-04  10.150\n",
            "3           3  Chicago  2021-03-05   9.785\n",
            "4           4  Chicago  2021-03-06   8.965\n"
          ],
          "name": "stdout"
        }
      ]
    },
    {
      "cell_type": "code",
      "metadata": {
        "colab": {
          "base_uri": "https://localhost:8080/",
          "height": 417
        },
        "id": "7pHVykdNM23B",
        "outputId": "feeb7ebd-7d1e-4fa6-b782-3d7aa3d1b7e4"
      },
      "source": [
        "df"
      ],
      "execution_count": null,
      "outputs": [
        {
          "output_type": "execute_result",
          "data": {
            "text/html": [
              "<div>\n",
              "<style scoped>\n",
              "    .dataframe tbody tr th:only-of-type {\n",
              "        vertical-align: middle;\n",
              "    }\n",
              "\n",
              "    .dataframe tbody tr th {\n",
              "        vertical-align: top;\n",
              "    }\n",
              "\n",
              "    .dataframe thead th {\n",
              "        text-align: right;\n",
              "    }\n",
              "</style>\n",
              "<table border=\"1\" class=\"dataframe\">\n",
              "  <thead>\n",
              "    <tr style=\"text-align: right;\">\n",
              "      <th></th>\n",
              "      <th>Unnamed: 0</th>\n",
              "      <th>0</th>\n",
              "      <th>1</th>\n",
              "      <th>2</th>\n",
              "    </tr>\n",
              "  </thead>\n",
              "  <tbody>\n",
              "    <tr>\n",
              "      <th>0</th>\n",
              "      <td>0</td>\n",
              "      <td>Milwaukee</td>\n",
              "      <td>2021-03-02</td>\n",
              "      <td>3.505</td>\n",
              "    </tr>\n",
              "    <tr>\n",
              "      <th>1</th>\n",
              "      <td>1</td>\n",
              "      <td>Milwaukee</td>\n",
              "      <td>2021-03-03</td>\n",
              "      <td>7.490</td>\n",
              "    </tr>\n",
              "    <tr>\n",
              "      <th>2</th>\n",
              "      <td>2</td>\n",
              "      <td>Milwaukee</td>\n",
              "      <td>2021-03-04</td>\n",
              "      <td>9.355</td>\n",
              "    </tr>\n",
              "    <tr>\n",
              "      <th>3</th>\n",
              "      <td>3</td>\n",
              "      <td>Milwaukee</td>\n",
              "      <td>2021-03-05</td>\n",
              "      <td>9.935</td>\n",
              "    </tr>\n",
              "    <tr>\n",
              "      <th>4</th>\n",
              "      <td>4</td>\n",
              "      <td>Milwaukee</td>\n",
              "      <td>2021-03-06</td>\n",
              "      <td>9.345</td>\n",
              "    </tr>\n",
              "    <tr>\n",
              "      <th>...</th>\n",
              "      <td>...</td>\n",
              "      <td>...</td>\n",
              "      <td>...</td>\n",
              "      <td>...</td>\n",
              "    </tr>\n",
              "    <tr>\n",
              "      <th>535</th>\n",
              "      <td>85</td>\n",
              "      <td>Chicago</td>\n",
              "      <td>2021-05-27</td>\n",
              "      <td>28.900</td>\n",
              "    </tr>\n",
              "    <tr>\n",
              "      <th>536</th>\n",
              "      <td>86</td>\n",
              "      <td>Chicago</td>\n",
              "      <td>2021-05-28</td>\n",
              "      <td>23.165</td>\n",
              "    </tr>\n",
              "    <tr>\n",
              "      <th>537</th>\n",
              "      <td>87</td>\n",
              "      <td>Chicago</td>\n",
              "      <td>2021-05-29</td>\n",
              "      <td>23.900</td>\n",
              "    </tr>\n",
              "    <tr>\n",
              "      <th>538</th>\n",
              "      <td>88</td>\n",
              "      <td>Chicago</td>\n",
              "      <td>2021-05-30</td>\n",
              "      <td>28.300</td>\n",
              "    </tr>\n",
              "    <tr>\n",
              "      <th>539</th>\n",
              "      <td>89</td>\n",
              "      <td>Chicago</td>\n",
              "      <td>2021-05-31</td>\n",
              "      <td>25.080</td>\n",
              "    </tr>\n",
              "  </tbody>\n",
              "</table>\n",
              "<p>540 rows × 4 columns</p>\n",
              "</div>"
            ],
            "text/plain": [
              "     Unnamed: 0          0           1       2\n",
              "0             0  Milwaukee  2021-03-02   3.505\n",
              "1             1  Milwaukee  2021-03-03   7.490\n",
              "2             2  Milwaukee  2021-03-04   9.355\n",
              "3             3  Milwaukee  2021-03-05   9.935\n",
              "4             4  Milwaukee  2021-03-06   9.345\n",
              "..          ...        ...         ...     ...\n",
              "535          85    Chicago  2021-05-27  28.900\n",
              "536          86    Chicago  2021-05-28  23.165\n",
              "537          87    Chicago  2021-05-29  23.900\n",
              "538          88    Chicago  2021-05-30  28.300\n",
              "539          89    Chicago  2021-05-31  25.080\n",
              "\n",
              "[540 rows x 4 columns]"
            ]
          },
          "metadata": {
            "tags": []
          },
          "execution_count": 4
        }
      ]
    },
    {
      "cell_type": "code",
      "metadata": {
        "id": "ZUeQ_M9pNnxl"
      },
      "source": [
        "#Now, to rename the columns\n",
        "df.columns = ['drp', 'city', 'date', 'maxtemp']\n",
        "df.drop('drp', axis=1, inplace=True)"
      ],
      "execution_count": null,
      "outputs": []
    },
    {
      "cell_type": "code",
      "metadata": {
        "id": "cgyfQ79QOWnL"
      },
      "source": [
        "df = df.pivot(index='date', columns='city', values='maxtemp')"
      ],
      "execution_count": null,
      "outputs": []
    },
    {
      "cell_type": "code",
      "metadata": {
        "colab": {
          "base_uri": "https://localhost:8080/",
          "height": 234
        },
        "id": "2cbXE61VPph4",
        "outputId": "0273706f-6df0-4705-d7b6-89727f8b7b38"
      },
      "source": [
        "df.head()"
      ],
      "execution_count": null,
      "outputs": [
        {
          "output_type": "execute_result",
          "data": {
            "text/html": [
              "<div>\n",
              "<style scoped>\n",
              "    .dataframe tbody tr th:only-of-type {\n",
              "        vertical-align: middle;\n",
              "    }\n",
              "\n",
              "    .dataframe tbody tr th {\n",
              "        vertical-align: top;\n",
              "    }\n",
              "\n",
              "    .dataframe thead th {\n",
              "        text-align: right;\n",
              "    }\n",
              "</style>\n",
              "<table border=\"1\" class=\"dataframe\">\n",
              "  <thead>\n",
              "    <tr style=\"text-align: right;\">\n",
              "      <th>city</th>\n",
              "      <th>Chicago</th>\n",
              "      <th>Detroit</th>\n",
              "      <th>Milwaukee</th>\n",
              "      <th>Omaha</th>\n",
              "      <th>St. Louis</th>\n",
              "      <th>Toronto</th>\n",
              "    </tr>\n",
              "    <tr>\n",
              "      <th>date</th>\n",
              "      <th></th>\n",
              "      <th></th>\n",
              "      <th></th>\n",
              "      <th></th>\n",
              "      <th></th>\n",
              "      <th></th>\n",
              "    </tr>\n",
              "  </thead>\n",
              "  <tbody>\n",
              "    <tr>\n",
              "      <th>2021-03-02</th>\n",
              "      <td>6.060</td>\n",
              "      <td>8.360</td>\n",
              "      <td>3.505</td>\n",
              "      <td>7.590</td>\n",
              "      <td>15.105</td>\n",
              "      <td>6.035</td>\n",
              "    </tr>\n",
              "    <tr>\n",
              "      <th>2021-03-03</th>\n",
              "      <td>6.100</td>\n",
              "      <td>6.820</td>\n",
              "      <td>7.490</td>\n",
              "      <td>14.695</td>\n",
              "      <td>15.480</td>\n",
              "      <td>3.360</td>\n",
              "    </tr>\n",
              "    <tr>\n",
              "      <th>2021-03-04</th>\n",
              "      <td>10.150</td>\n",
              "      <td>12.215</td>\n",
              "      <td>9.355</td>\n",
              "      <td>17.600</td>\n",
              "      <td>20.425</td>\n",
              "      <td>7.225</td>\n",
              "    </tr>\n",
              "    <tr>\n",
              "      <th>2021-03-05</th>\n",
              "      <td>9.785</td>\n",
              "      <td>11.255</td>\n",
              "      <td>9.935</td>\n",
              "      <td>17.770</td>\n",
              "      <td>18.550</td>\n",
              "      <td>7.525</td>\n",
              "    </tr>\n",
              "    <tr>\n",
              "      <th>2021-03-06</th>\n",
              "      <td>8.965</td>\n",
              "      <td>10.325</td>\n",
              "      <td>9.345</td>\n",
              "      <td>17.010</td>\n",
              "      <td>19.070</td>\n",
              "      <td>7.010</td>\n",
              "    </tr>\n",
              "  </tbody>\n",
              "</table>\n",
              "</div>"
            ],
            "text/plain": [
              "city        Chicago  Detroit  Milwaukee   Omaha  St. Louis  Toronto\n",
              "date                                                               \n",
              "2021-03-02    6.060    8.360      3.505   7.590     15.105    6.035\n",
              "2021-03-03    6.100    6.820      7.490  14.695     15.480    3.360\n",
              "2021-03-04   10.150   12.215      9.355  17.600     20.425    7.225\n",
              "2021-03-05    9.785   11.255      9.935  17.770     18.550    7.525\n",
              "2021-03-06    8.965   10.325      9.345  17.010     19.070    7.010"
            ]
          },
          "metadata": {
            "tags": []
          },
          "execution_count": 7
        }
      ]
    },
    {
      "cell_type": "markdown",
      "metadata": {
        "id": "lfqfn8h4PiP6"
      },
      "source": [
        "Okay - now it is time to do a test train split, and a quick grid search."
      ]
    },
    {
      "cell_type": "code",
      "metadata": {
        "id": "g59ZMFx7Os_G"
      },
      "source": [
        "X_train, X_test, y_train, y_test = train_test_split(\n",
        "                        df.drop('Chicago', axis=1), df['Chicago'],\n",
        "                test_size = 0.25, random_state = 101)\n",
        "\n"
      ],
      "execution_count": null,
      "outputs": []
    },
    {
      "cell_type": "code",
      "metadata": {
        "colab": {
          "base_uri": "https://localhost:8080/"
        },
        "id": "XUJpsHAFQMXf",
        "outputId": "a2ff2a62-96b0-4080-cd9f-84e1db82c752"
      },
      "source": [
        "# defining parameter range\n",
        "param_grid = {'C': [0.1, 1, 10, 100], \n",
        "              'gamma': [1, 0.1, 0.01, 0.001],\n",
        "              'kernel': ['rbf', 'linear']} \n",
        "  \n",
        "grid = GridSearchCV(SVR(), param_grid, refit = True, verbose = 2)\n",
        "  \n",
        "# fitting the model for grid search\n",
        "grid.fit(X_train, y_train)"
      ],
      "execution_count": null,
      "outputs": [
        {
          "output_type": "stream",
          "text": [
            "Fitting 5 folds for each of 32 candidates, totalling 160 fits\n",
            "[CV] C=0.1, gamma=1, kernel=rbf ......................................\n",
            "[CV] ....................... C=0.1, gamma=1, kernel=rbf, total=   0.0s\n",
            "[CV] C=0.1, gamma=1, kernel=rbf ......................................\n",
            "[CV] ....................... C=0.1, gamma=1, kernel=rbf, total=   0.0s\n",
            "[CV] C=0.1, gamma=1, kernel=rbf ......................................\n",
            "[CV] ....................... C=0.1, gamma=1, kernel=rbf, total=   0.0s\n",
            "[CV] C=0.1, gamma=1, kernel=rbf ......................................\n",
            "[CV] ....................... C=0.1, gamma=1, kernel=rbf, total=   0.0s\n",
            "[CV] C=0.1, gamma=1, kernel=rbf ......................................\n",
            "[CV] ....................... C=0.1, gamma=1, kernel=rbf, total=   0.0s\n",
            "[CV] C=0.1, gamma=1, kernel=linear ...................................\n",
            "[CV] .................... C=0.1, gamma=1, kernel=linear, total=   0.0s\n",
            "[CV] C=0.1, gamma=1, kernel=linear ...................................\n",
            "[CV] .................... C=0.1, gamma=1, kernel=linear, total=   0.0s\n",
            "[CV] C=0.1, gamma=1, kernel=linear ...................................\n",
            "[CV] .................... C=0.1, gamma=1, kernel=linear, total=   0.0s\n",
            "[CV] C=0.1, gamma=1, kernel=linear ...................................\n",
            "[CV] .................... C=0.1, gamma=1, kernel=linear, total=   0.0s\n",
            "[CV] C=0.1, gamma=1, kernel=linear ...................................\n",
            "[CV] .................... C=0.1, gamma=1, kernel=linear, total=   0.0s\n",
            "[CV] C=0.1, gamma=0.1, kernel=rbf ....................................\n",
            "[CV] ..................... C=0.1, gamma=0.1, kernel=rbf, total=   0.0s\n",
            "[CV] C=0.1, gamma=0.1, kernel=rbf ....................................\n",
            "[CV] ..................... C=0.1, gamma=0.1, kernel=rbf, total=   0.0s\n",
            "[CV] C=0.1, gamma=0.1, kernel=rbf ....................................\n",
            "[CV] ..................... C=0.1, gamma=0.1, kernel=rbf, total=   0.0s\n",
            "[CV] C=0.1, gamma=0.1, kernel=rbf ....................................\n",
            "[CV] ..................... C=0.1, gamma=0.1, kernel=rbf, total=   0.0s\n",
            "[CV] C=0.1, gamma=0.1, kernel=rbf ....................................\n",
            "[CV] ..................... C=0.1, gamma=0.1, kernel=rbf, total=   0.0s\n",
            "[CV] C=0.1, gamma=0.1, kernel=linear .................................\n",
            "[CV] .................. C=0.1, gamma=0.1, kernel=linear, total=   0.0s\n",
            "[CV] C=0.1, gamma=0.1, kernel=linear .................................\n",
            "[CV] .................. C=0.1, gamma=0.1, kernel=linear, total=   0.0s\n",
            "[CV] C=0.1, gamma=0.1, kernel=linear .................................\n",
            "[CV] .................. C=0.1, gamma=0.1, kernel=linear, total=   0.0s\n",
            "[CV] C=0.1, gamma=0.1, kernel=linear .................................\n",
            "[CV] .................. C=0.1, gamma=0.1, kernel=linear, total=   0.0s\n",
            "[CV] C=0.1, gamma=0.1, kernel=linear .................................\n",
            "[CV] .................. C=0.1, gamma=0.1, kernel=linear, total=   0.0s\n",
            "[CV] C=0.1, gamma=0.01, kernel=rbf ...................................\n",
            "[CV] .................... C=0.1, gamma=0.01, kernel=rbf, total=   0.0s\n",
            "[CV] C=0.1, gamma=0.01, kernel=rbf ...................................\n",
            "[CV] .................... C=0.1, gamma=0.01, kernel=rbf, total=   0.0s\n",
            "[CV] C=0.1, gamma=0.01, kernel=rbf ...................................\n",
            "[CV] .................... C=0.1, gamma=0.01, kernel=rbf, total=   0.0s\n",
            "[CV] C=0.1, gamma=0.01, kernel=rbf ...................................\n",
            "[CV] .................... C=0.1, gamma=0.01, kernel=rbf, total=   0.0s\n",
            "[CV] C=0.1, gamma=0.01, kernel=rbf ...................................\n",
            "[CV] .................... C=0.1, gamma=0.01, kernel=rbf, total=   0.0s\n",
            "[CV] C=0.1, gamma=0.01, kernel=linear ................................\n",
            "[CV] ................. C=0.1, gamma=0.01, kernel=linear, total=   0.0s\n",
            "[CV] C=0.1, gamma=0.01, kernel=linear ................................\n",
            "[CV] ................. C=0.1, gamma=0.01, kernel=linear, total=   0.0s\n",
            "[CV] C=0.1, gamma=0.01, kernel=linear ................................\n",
            "[CV] ................. C=0.1, gamma=0.01, kernel=linear, total=   0.0s\n",
            "[CV] C=0.1, gamma=0.01, kernel=linear ................................\n",
            "[CV] ................. C=0.1, gamma=0.01, kernel=linear, total=   0.0s\n",
            "[CV] C=0.1, gamma=0.01, kernel=linear ................................\n",
            "[CV] ................. C=0.1, gamma=0.01, kernel=linear, total=   0.0s\n",
            "[CV] C=0.1, gamma=0.001, kernel=rbf ..................................\n",
            "[CV] ................... C=0.1, gamma=0.001, kernel=rbf, total=   0.0s\n",
            "[CV] C=0.1, gamma=0.001, kernel=rbf ..................................\n",
            "[CV] ................... C=0.1, gamma=0.001, kernel=rbf, total=   0.0s\n",
            "[CV] C=0.1, gamma=0.001, kernel=rbf ..................................\n",
            "[CV] ................... C=0.1, gamma=0.001, kernel=rbf, total=   0.0s\n",
            "[CV] C=0.1, gamma=0.001, kernel=rbf ..................................\n",
            "[CV] ................... C=0.1, gamma=0.001, kernel=rbf, total=   0.0s\n",
            "[CV] C=0.1, gamma=0.001, kernel=rbf ..................................\n",
            "[CV] ................... C=0.1, gamma=0.001, kernel=rbf, total=   0.0s\n",
            "[CV] C=0.1, gamma=0.001, kernel=linear ...............................\n",
            "[CV] ................ C=0.1, gamma=0.001, kernel=linear, total=   0.0s\n",
            "[CV] C=0.1, gamma=0.001, kernel=linear ...............................\n",
            "[CV] ................ C=0.1, gamma=0.001, kernel=linear, total=   0.0s\n",
            "[CV] C=0.1, gamma=0.001, kernel=linear ...............................\n",
            "[CV] ................ C=0.1, gamma=0.001, kernel=linear, total=   0.0s\n",
            "[CV] C=0.1, gamma=0.001, kernel=linear ...............................\n",
            "[CV] ................ C=0.1, gamma=0.001, kernel=linear, total=   0.0s\n",
            "[CV] C=0.1, gamma=0.001, kernel=linear ...............................\n"
          ],
          "name": "stdout"
        },
        {
          "output_type": "stream",
          "text": [
            "[Parallel(n_jobs=1)]: Using backend SequentialBackend with 1 concurrent workers.\n",
            "[Parallel(n_jobs=1)]: Done   1 out of   1 | elapsed:    0.0s remaining:    0.0s\n"
          ],
          "name": "stderr"
        },
        {
          "output_type": "stream",
          "text": [
            "[CV] ................ C=0.1, gamma=0.001, kernel=linear, total=   0.0s\n",
            "[CV] C=1, gamma=1, kernel=rbf ........................................\n",
            "[CV] ......................... C=1, gamma=1, kernel=rbf, total=   0.0s\n",
            "[CV] C=1, gamma=1, kernel=rbf ........................................\n",
            "[CV] ......................... C=1, gamma=1, kernel=rbf, total=   0.0s\n",
            "[CV] C=1, gamma=1, kernel=rbf ........................................\n",
            "[CV] ......................... C=1, gamma=1, kernel=rbf, total=   0.0s\n",
            "[CV] C=1, gamma=1, kernel=rbf ........................................\n",
            "[CV] ......................... C=1, gamma=1, kernel=rbf, total=   0.0s\n",
            "[CV] C=1, gamma=1, kernel=rbf ........................................\n",
            "[CV] ......................... C=1, gamma=1, kernel=rbf, total=   0.0s\n",
            "[CV] C=1, gamma=1, kernel=linear .....................................\n",
            "[CV] ...................... C=1, gamma=1, kernel=linear, total=   0.0s\n",
            "[CV] C=1, gamma=1, kernel=linear .....................................\n",
            "[CV] ...................... C=1, gamma=1, kernel=linear, total=   0.0s\n",
            "[CV] C=1, gamma=1, kernel=linear .....................................\n",
            "[CV] ...................... C=1, gamma=1, kernel=linear, total=   0.0s\n",
            "[CV] C=1, gamma=1, kernel=linear .....................................\n",
            "[CV] ...................... C=1, gamma=1, kernel=linear, total=   0.0s\n",
            "[CV] C=1, gamma=1, kernel=linear .....................................\n",
            "[CV] ...................... C=1, gamma=1, kernel=linear, total=   0.0s\n",
            "[CV] C=1, gamma=0.1, kernel=rbf ......................................\n",
            "[CV] ....................... C=1, gamma=0.1, kernel=rbf, total=   0.0s\n",
            "[CV] C=1, gamma=0.1, kernel=rbf ......................................\n",
            "[CV] ....................... C=1, gamma=0.1, kernel=rbf, total=   0.0s\n",
            "[CV] C=1, gamma=0.1, kernel=rbf ......................................\n",
            "[CV] ....................... C=1, gamma=0.1, kernel=rbf, total=   0.0s\n",
            "[CV] C=1, gamma=0.1, kernel=rbf ......................................\n",
            "[CV] ....................... C=1, gamma=0.1, kernel=rbf, total=   0.0s\n",
            "[CV] C=1, gamma=0.1, kernel=rbf ......................................\n",
            "[CV] ....................... C=1, gamma=0.1, kernel=rbf, total=   0.0s\n",
            "[CV] C=1, gamma=0.1, kernel=linear ...................................\n",
            "[CV] .................... C=1, gamma=0.1, kernel=linear, total=   0.0s\n",
            "[CV] C=1, gamma=0.1, kernel=linear ...................................\n",
            "[CV] .................... C=1, gamma=0.1, kernel=linear, total=   0.0s\n",
            "[CV] C=1, gamma=0.1, kernel=linear ...................................\n",
            "[CV] .................... C=1, gamma=0.1, kernel=linear, total=   0.0s\n",
            "[CV] C=1, gamma=0.1, kernel=linear ...................................\n",
            "[CV] .................... C=1, gamma=0.1, kernel=linear, total=   0.0s\n",
            "[CV] C=1, gamma=0.1, kernel=linear ...................................\n",
            "[CV] .................... C=1, gamma=0.1, kernel=linear, total=   0.0s\n",
            "[CV] C=1, gamma=0.01, kernel=rbf .....................................\n",
            "[CV] ...................... C=1, gamma=0.01, kernel=rbf, total=   0.0s\n",
            "[CV] C=1, gamma=0.01, kernel=rbf .....................................\n",
            "[CV] ...................... C=1, gamma=0.01, kernel=rbf, total=   0.0s\n",
            "[CV] C=1, gamma=0.01, kernel=rbf .....................................\n",
            "[CV] ...................... C=1, gamma=0.01, kernel=rbf, total=   0.0s\n",
            "[CV] C=1, gamma=0.01, kernel=rbf .....................................\n",
            "[CV] ...................... C=1, gamma=0.01, kernel=rbf, total=   0.0s\n",
            "[CV] C=1, gamma=0.01, kernel=rbf .....................................\n",
            "[CV] ...................... C=1, gamma=0.01, kernel=rbf, total=   0.0s\n",
            "[CV] C=1, gamma=0.01, kernel=linear ..................................\n",
            "[CV] ................... C=1, gamma=0.01, kernel=linear, total=   0.0s\n",
            "[CV] C=1, gamma=0.01, kernel=linear ..................................\n",
            "[CV] ................... C=1, gamma=0.01, kernel=linear, total=   0.0s\n",
            "[CV] C=1, gamma=0.01, kernel=linear ..................................\n",
            "[CV] ................... C=1, gamma=0.01, kernel=linear, total=   0.0s\n",
            "[CV] C=1, gamma=0.01, kernel=linear ..................................\n",
            "[CV] ................... C=1, gamma=0.01, kernel=linear, total=   0.0s\n",
            "[CV] C=1, gamma=0.01, kernel=linear ..................................\n",
            "[CV] ................... C=1, gamma=0.01, kernel=linear, total=   0.0s\n",
            "[CV] C=1, gamma=0.001, kernel=rbf ....................................\n",
            "[CV] ..................... C=1, gamma=0.001, kernel=rbf, total=   0.0s\n",
            "[CV] C=1, gamma=0.001, kernel=rbf ....................................\n",
            "[CV] ..................... C=1, gamma=0.001, kernel=rbf, total=   0.0s\n",
            "[CV] C=1, gamma=0.001, kernel=rbf ....................................\n",
            "[CV] ..................... C=1, gamma=0.001, kernel=rbf, total=   0.0s\n",
            "[CV] C=1, gamma=0.001, kernel=rbf ....................................\n",
            "[CV] ..................... C=1, gamma=0.001, kernel=rbf, total=   0.0s\n",
            "[CV] C=1, gamma=0.001, kernel=rbf ....................................\n",
            "[CV] ..................... C=1, gamma=0.001, kernel=rbf, total=   0.0s\n",
            "[CV] C=1, gamma=0.001, kernel=linear .................................\n",
            "[CV] .................. C=1, gamma=0.001, kernel=linear, total=   0.0s\n",
            "[CV] C=1, gamma=0.001, kernel=linear .................................\n",
            "[CV] .................. C=1, gamma=0.001, kernel=linear, total=   0.0s\n",
            "[CV] C=1, gamma=0.001, kernel=linear .................................\n",
            "[CV] .................. C=1, gamma=0.001, kernel=linear, total=   0.0s\n",
            "[CV] C=1, gamma=0.001, kernel=linear .................................\n",
            "[CV] .................. C=1, gamma=0.001, kernel=linear, total=   0.0s\n",
            "[CV] C=1, gamma=0.001, kernel=linear .................................\n",
            "[CV] .................. C=1, gamma=0.001, kernel=linear, total=   0.0s\n",
            "[CV] C=10, gamma=1, kernel=rbf .......................................\n",
            "[CV] ........................ C=10, gamma=1, kernel=rbf, total=   0.0s\n",
            "[CV] C=10, gamma=1, kernel=rbf .......................................\n",
            "[CV] ........................ C=10, gamma=1, kernel=rbf, total=   0.0s\n",
            "[CV] C=10, gamma=1, kernel=rbf .......................................\n",
            "[CV] ........................ C=10, gamma=1, kernel=rbf, total=   0.0s\n",
            "[CV] C=10, gamma=1, kernel=rbf .......................................\n",
            "[CV] ........................ C=10, gamma=1, kernel=rbf, total=   0.0s\n",
            "[CV] C=10, gamma=1, kernel=rbf .......................................\n",
            "[CV] ........................ C=10, gamma=1, kernel=rbf, total=   0.0s\n",
            "[CV] C=10, gamma=1, kernel=linear ....................................\n",
            "[CV] ..................... C=10, gamma=1, kernel=linear, total=   0.0s\n",
            "[CV] C=10, gamma=1, kernel=linear ....................................\n",
            "[CV] ..................... C=10, gamma=1, kernel=linear, total=   0.0s\n",
            "[CV] C=10, gamma=1, kernel=linear ....................................\n",
            "[CV] ..................... C=10, gamma=1, kernel=linear, total=   0.0s\n",
            "[CV] C=10, gamma=1, kernel=linear ....................................\n",
            "[CV] ..................... C=10, gamma=1, kernel=linear, total=   0.0s\n",
            "[CV] C=10, gamma=1, kernel=linear ....................................\n",
            "[CV] ..................... C=10, gamma=1, kernel=linear, total=   0.2s\n",
            "[CV] C=10, gamma=0.1, kernel=rbf .....................................\n",
            "[CV] ...................... C=10, gamma=0.1, kernel=rbf, total=   0.0s\n",
            "[CV] C=10, gamma=0.1, kernel=rbf .....................................\n",
            "[CV] ...................... C=10, gamma=0.1, kernel=rbf, total=   0.0s\n",
            "[CV] C=10, gamma=0.1, kernel=rbf .....................................\n",
            "[CV] ...................... C=10, gamma=0.1, kernel=rbf, total=   0.0s\n",
            "[CV] C=10, gamma=0.1, kernel=rbf .....................................\n",
            "[CV] ...................... C=10, gamma=0.1, kernel=rbf, total=   0.0s\n",
            "[CV] C=10, gamma=0.1, kernel=rbf .....................................\n",
            "[CV] ...................... C=10, gamma=0.1, kernel=rbf, total=   0.0s\n",
            "[CV] C=10, gamma=0.1, kernel=linear ..................................\n",
            "[CV] ................... C=10, gamma=0.1, kernel=linear, total=   0.0s\n",
            "[CV] C=10, gamma=0.1, kernel=linear ..................................\n",
            "[CV] ................... C=10, gamma=0.1, kernel=linear, total=   0.0s\n",
            "[CV] C=10, gamma=0.1, kernel=linear ..................................\n",
            "[CV] ................... C=10, gamma=0.1, kernel=linear, total=   0.0s\n",
            "[CV] C=10, gamma=0.1, kernel=linear ..................................\n",
            "[CV] ................... C=10, gamma=0.1, kernel=linear, total=   0.0s\n",
            "[CV] C=10, gamma=0.1, kernel=linear ..................................\n",
            "[CV] ................... C=10, gamma=0.1, kernel=linear, total=   0.2s\n",
            "[CV] C=10, gamma=0.01, kernel=rbf ....................................\n",
            "[CV] ..................... C=10, gamma=0.01, kernel=rbf, total=   0.0s\n",
            "[CV] C=10, gamma=0.01, kernel=rbf ....................................\n",
            "[CV] ..................... C=10, gamma=0.01, kernel=rbf, total=   0.0s\n",
            "[CV] C=10, gamma=0.01, kernel=rbf ....................................\n",
            "[CV] ..................... C=10, gamma=0.01, kernel=rbf, total=   0.0s\n",
            "[CV] C=10, gamma=0.01, kernel=rbf ....................................\n",
            "[CV] ..................... C=10, gamma=0.01, kernel=rbf, total=   0.0s\n",
            "[CV] C=10, gamma=0.01, kernel=rbf ....................................\n",
            "[CV] ..................... C=10, gamma=0.01, kernel=rbf, total=   0.0s\n",
            "[CV] C=10, gamma=0.01, kernel=linear .................................\n",
            "[CV] .................. C=10, gamma=0.01, kernel=linear, total=   0.0s\n",
            "[CV] C=10, gamma=0.01, kernel=linear .................................\n",
            "[CV] .................. C=10, gamma=0.01, kernel=linear, total=   0.0s\n",
            "[CV] C=10, gamma=0.01, kernel=linear .................................\n",
            "[CV] .................. C=10, gamma=0.01, kernel=linear, total=   0.0s\n",
            "[CV] C=10, gamma=0.01, kernel=linear .................................\n",
            "[CV] .................. C=10, gamma=0.01, kernel=linear, total=   0.0s\n",
            "[CV] C=10, gamma=0.01, kernel=linear .................................\n",
            "[CV] .................. C=10, gamma=0.01, kernel=linear, total=   0.2s\n",
            "[CV] C=10, gamma=0.001, kernel=rbf ...................................\n",
            "[CV] .................... C=10, gamma=0.001, kernel=rbf, total=   0.0s\n",
            "[CV] C=10, gamma=0.001, kernel=rbf ...................................\n",
            "[CV] .................... C=10, gamma=0.001, kernel=rbf, total=   0.0s\n",
            "[CV] C=10, gamma=0.001, kernel=rbf ...................................\n",
            "[CV] .................... C=10, gamma=0.001, kernel=rbf, total=   0.0s\n",
            "[CV] C=10, gamma=0.001, kernel=rbf ...................................\n",
            "[CV] .................... C=10, gamma=0.001, kernel=rbf, total=   0.0s\n",
            "[CV] C=10, gamma=0.001, kernel=rbf ...................................\n",
            "[CV] .................... C=10, gamma=0.001, kernel=rbf, total=   0.0s\n",
            "[CV] C=10, gamma=0.001, kernel=linear ................................\n",
            "[CV] ................. C=10, gamma=0.001, kernel=linear, total=   0.0s\n",
            "[CV] C=10, gamma=0.001, kernel=linear ................................\n",
            "[CV] ................. C=10, gamma=0.001, kernel=linear, total=   0.0s\n",
            "[CV] C=10, gamma=0.001, kernel=linear ................................\n",
            "[CV] ................. C=10, gamma=0.001, kernel=linear, total=   0.0s\n",
            "[CV] C=10, gamma=0.001, kernel=linear ................................\n",
            "[CV] ................. C=10, gamma=0.001, kernel=linear, total=   0.0s\n",
            "[CV] C=10, gamma=0.001, kernel=linear ................................\n",
            "[CV] ................. C=10, gamma=0.001, kernel=linear, total=   0.2s\n",
            "[CV] C=100, gamma=1, kernel=rbf ......................................\n",
            "[CV] ....................... C=100, gamma=1, kernel=rbf, total=   0.0s\n",
            "[CV] C=100, gamma=1, kernel=rbf ......................................\n",
            "[CV] ....................... C=100, gamma=1, kernel=rbf, total=   0.0s\n",
            "[CV] C=100, gamma=1, kernel=rbf ......................................\n",
            "[CV] ....................... C=100, gamma=1, kernel=rbf, total=   0.0s\n",
            "[CV] C=100, gamma=1, kernel=rbf ......................................\n",
            "[CV] ....................... C=100, gamma=1, kernel=rbf, total=   0.0s\n",
            "[CV] C=100, gamma=1, kernel=rbf ......................................\n",
            "[CV] ....................... C=100, gamma=1, kernel=rbf, total=   0.0s\n",
            "[CV] C=100, gamma=1, kernel=linear ...................................\n",
            "[CV] .................... C=100, gamma=1, kernel=linear, total=   0.3s\n",
            "[CV] C=100, gamma=1, kernel=linear ...................................\n",
            "[CV] .................... C=100, gamma=1, kernel=linear, total=   0.3s\n",
            "[CV] C=100, gamma=1, kernel=linear ...................................\n",
            "[CV] .................... C=100, gamma=1, kernel=linear, total=   0.3s\n",
            "[CV] C=100, gamma=1, kernel=linear ...................................\n",
            "[CV] .................... C=100, gamma=1, kernel=linear, total=   0.5s\n",
            "[CV] C=100, gamma=1, kernel=linear ...................................\n",
            "[CV] .................... C=100, gamma=1, kernel=linear, total=   0.3s\n",
            "[CV] C=100, gamma=0.1, kernel=rbf ....................................\n",
            "[CV] ..................... C=100, gamma=0.1, kernel=rbf, total=   0.0s\n",
            "[CV] C=100, gamma=0.1, kernel=rbf ....................................\n",
            "[CV] ..................... C=100, gamma=0.1, kernel=rbf, total=   0.0s\n",
            "[CV] C=100, gamma=0.1, kernel=rbf ....................................\n",
            "[CV] ..................... C=100, gamma=0.1, kernel=rbf, total=   0.0s\n",
            "[CV] C=100, gamma=0.1, kernel=rbf ....................................\n",
            "[CV] ..................... C=100, gamma=0.1, kernel=rbf, total=   0.0s\n",
            "[CV] C=100, gamma=0.1, kernel=rbf ....................................\n",
            "[CV] ..................... C=100, gamma=0.1, kernel=rbf, total=   0.0s\n",
            "[CV] C=100, gamma=0.1, kernel=linear .................................\n",
            "[CV] .................. C=100, gamma=0.1, kernel=linear, total=   0.3s\n",
            "[CV] C=100, gamma=0.1, kernel=linear .................................\n",
            "[CV] .................. C=100, gamma=0.1, kernel=linear, total=   0.3s\n",
            "[CV] C=100, gamma=0.1, kernel=linear .................................\n",
            "[CV] .................. C=100, gamma=0.1, kernel=linear, total=   0.3s\n",
            "[CV] C=100, gamma=0.1, kernel=linear .................................\n",
            "[CV] .................. C=100, gamma=0.1, kernel=linear, total=   0.5s\n",
            "[CV] C=100, gamma=0.1, kernel=linear .................................\n",
            "[CV] .................. C=100, gamma=0.1, kernel=linear, total=   0.3s\n",
            "[CV] C=100, gamma=0.01, kernel=rbf ...................................\n",
            "[CV] .................... C=100, gamma=0.01, kernel=rbf, total=   0.0s\n",
            "[CV] C=100, gamma=0.01, kernel=rbf ...................................\n",
            "[CV] .................... C=100, gamma=0.01, kernel=rbf, total=   0.0s\n",
            "[CV] C=100, gamma=0.01, kernel=rbf ...................................\n",
            "[CV] .................... C=100, gamma=0.01, kernel=rbf, total=   0.0s\n",
            "[CV] C=100, gamma=0.01, kernel=rbf ...................................\n",
            "[CV] .................... C=100, gamma=0.01, kernel=rbf, total=   0.0s\n",
            "[CV] C=100, gamma=0.01, kernel=rbf ...................................\n",
            "[CV] .................... C=100, gamma=0.01, kernel=rbf, total=   0.0s\n",
            "[CV] C=100, gamma=0.01, kernel=linear ................................\n",
            "[CV] ................. C=100, gamma=0.01, kernel=linear, total=   0.3s\n",
            "[CV] C=100, gamma=0.01, kernel=linear ................................\n",
            "[CV] ................. C=100, gamma=0.01, kernel=linear, total=   0.3s\n",
            "[CV] C=100, gamma=0.01, kernel=linear ................................\n",
            "[CV] ................. C=100, gamma=0.01, kernel=linear, total=   0.3s\n",
            "[CV] C=100, gamma=0.01, kernel=linear ................................\n",
            "[CV] ................. C=100, gamma=0.01, kernel=linear, total=   0.5s\n",
            "[CV] C=100, gamma=0.01, kernel=linear ................................\n",
            "[CV] ................. C=100, gamma=0.01, kernel=linear, total=   0.3s\n",
            "[CV] C=100, gamma=0.001, kernel=rbf ..................................\n",
            "[CV] ................... C=100, gamma=0.001, kernel=rbf, total=   0.0s\n",
            "[CV] C=100, gamma=0.001, kernel=rbf ..................................\n",
            "[CV] ................... C=100, gamma=0.001, kernel=rbf, total=   0.0s\n",
            "[CV] C=100, gamma=0.001, kernel=rbf ..................................\n",
            "[CV] ................... C=100, gamma=0.001, kernel=rbf, total=   0.0s\n",
            "[CV] C=100, gamma=0.001, kernel=rbf ..................................\n",
            "[CV] ................... C=100, gamma=0.001, kernel=rbf, total=   0.0s\n",
            "[CV] C=100, gamma=0.001, kernel=rbf ..................................\n",
            "[CV] ................... C=100, gamma=0.001, kernel=rbf, total=   0.0s\n",
            "[CV] C=100, gamma=0.001, kernel=linear ...............................\n",
            "[CV] ................ C=100, gamma=0.001, kernel=linear, total=   0.3s\n",
            "[CV] C=100, gamma=0.001, kernel=linear ...............................\n",
            "[CV] ................ C=100, gamma=0.001, kernel=linear, total=   0.3s\n",
            "[CV] C=100, gamma=0.001, kernel=linear ...............................\n",
            "[CV] ................ C=100, gamma=0.001, kernel=linear, total=   0.3s\n",
            "[CV] C=100, gamma=0.001, kernel=linear ...............................\n",
            "[CV] ................ C=100, gamma=0.001, kernel=linear, total=   0.5s\n",
            "[CV] C=100, gamma=0.001, kernel=linear ...............................\n",
            "[CV] ................ C=100, gamma=0.001, kernel=linear, total=   0.3s\n"
          ],
          "name": "stdout"
        },
        {
          "output_type": "stream",
          "text": [
            "[Parallel(n_jobs=1)]: Done 160 out of 160 | elapsed:    9.3s finished\n"
          ],
          "name": "stderr"
        },
        {
          "output_type": "execute_result",
          "data": {
            "text/plain": [
              "GridSearchCV(cv=None, error_score=nan,\n",
              "             estimator=SVR(C=1.0, cache_size=200, coef0=0.0, degree=3,\n",
              "                           epsilon=0.1, gamma='scale', kernel='rbf',\n",
              "                           max_iter=-1, shrinking=True, tol=0.001,\n",
              "                           verbose=False),\n",
              "             iid='deprecated', n_jobs=None,\n",
              "             param_grid={'C': [0.1, 1, 10, 100], 'gamma': [1, 0.1, 0.01, 0.001],\n",
              "                         'kernel': ['rbf', 'linear']},\n",
              "             pre_dispatch='2*n_jobs', refit=True, return_train_score=False,\n",
              "             scoring=None, verbose=2)"
            ]
          },
          "metadata": {
            "tags": []
          },
          "execution_count": 9
        }
      ]
    },
    {
      "cell_type": "code",
      "metadata": {
        "colab": {
          "base_uri": "https://localhost:8080/"
        },
        "id": "S8yO9AoqQXrz",
        "outputId": "7ac328da-2077-419b-8b90-b04915c0565a"
      },
      "source": [
        "print(grid.best_params_)"
      ],
      "execution_count": null,
      "outputs": [
        {
          "output_type": "stream",
          "text": [
            "{'C': 0.1, 'gamma': 1, 'kernel': 'linear'}\n"
          ],
          "name": "stdout"
        }
      ]
    },
    {
      "cell_type": "code",
      "metadata": {
        "colab": {
          "base_uri": "https://localhost:8080/"
        },
        "id": "uO3eGXDAQwdB",
        "outputId": "1ee63429-481d-4cd0-8769-969260abcf28"
      },
      "source": [
        "print(grid.best_estimator_)"
      ],
      "execution_count": null,
      "outputs": [
        {
          "output_type": "stream",
          "text": [
            "SVR(C=0.1, cache_size=200, coef0=0.0, degree=3, epsilon=0.1, gamma=1,\n",
            "    kernel='linear', max_iter=-1, shrinking=True, tol=0.001, verbose=False)\n"
          ],
          "name": "stdout"
        }
      ]
    },
    {
      "cell_type": "code",
      "metadata": {
        "colab": {
          "base_uri": "https://localhost:8080/"
        },
        "id": "h37-djGeh1H-",
        "outputId": "c4af4589-90eb-4521-c4c8-9f97877b445a"
      },
      "source": [
        "print(grid.best_score_)"
      ],
      "execution_count": null,
      "outputs": [
        {
          "output_type": "stream",
          "text": [
            "0.9426824538085308\n"
          ],
          "name": "stdout"
        }
      ]
    },
    {
      "cell_type": "code",
      "metadata": {
        "id": "WLzZi4kPh903"
      },
      "source": [
        "import pickle\n",
        "pickle.dump(grid.best_estimator_, open('weather_model.pkl', 'wb'))"
      ],
      "execution_count": null,
      "outputs": []
    },
    {
      "cell_type": "code",
      "metadata": {
        "id": "o1CApedAiGXz"
      },
      "source": [
        "!cp weather_model.pkl gdrive/MyDrive/ModelMonitoringBlog"
      ],
      "execution_count": null,
      "outputs": []
    },
    {
      "cell_type": "code",
      "metadata": {
        "id": "qFow5DAMiHpU"
      },
      "source": [
        ""
      ],
      "execution_count": null,
      "outputs": []
    }
  ]
}