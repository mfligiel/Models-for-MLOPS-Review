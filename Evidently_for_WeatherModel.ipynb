{
  "nbformat": 4,
  "nbformat_minor": 0,
  "metadata": {
    "colab": {
      "name": "Evidently for WeatherModel.ipynb",
      "provenance": [],
      "collapsed_sections": [],
      "authorship_tag": "ABX9TyPKIShKWavX4D99cKKIMZaV",
      "include_colab_link": true
    },
    "kernelspec": {
      "name": "python3",
      "display_name": "Python 3"
    },
    "language_info": {
      "name": "python"
    }
  },
  "cells": [
    {
      "cell_type": "markdown",
      "metadata": {
        "id": "view-in-github",
        "colab_type": "text"
      },
      "source": [
        "<a href=\"https://colab.research.google.com/github/mfligiel/Models-for-MLOPS-Review/blob/main/Evidently_for_WeatherModel.ipynb\" target=\"_parent\"><img src=\"https://colab.research.google.com/assets/colab-badge.svg\" alt=\"Open In Colab\"/></a>"
      ]
    },
    {
      "cell_type": "markdown",
      "metadata": {
        "id": "aqFUAqIRsChP"
      },
      "source": [
        "## Weather Data\n",
        "\n",
        "I am going to predict Chicago's weather from the weather of 5 other places nearby using a weather API.  This model isn't the most useful, but is good for showcasing model monitoring.\n",
        "\n",
        "Here, I will pull in some June data, but replacing Toronto with Phoenix.  A bit of a different temperature distribution!"
      ]
    },
    {
      "cell_type": "code",
      "metadata": {
        "colab": {
          "base_uri": "https://localhost:8080/"
        },
        "id": "r-EYgp8ThUj1",
        "outputId": "711558ff-f4e4-4bbb-d578-430d49d0b4b7"
      },
      "source": [
        "!pip install evidently"
      ],
      "execution_count": 1,
      "outputs": [
        {
          "output_type": "stream",
          "text": [
            "Collecting evidently\n",
            "\u001b[?25l  Downloading https://files.pythonhosted.org/packages/8b/64/817e8fb176d8393eb2b49f5650957e7ddb11dc3f9d531deb9e26036f8553/evidently-0.1.19.dev0-py3-none-any.whl (15.2MB)\n",
            "\u001b[K     |████████████████████████████████| 15.2MB 185kB/s \n",
            "\u001b[?25hRequirement already satisfied: pandas in /usr/local/lib/python3.7/dist-packages (from evidently) (1.1.5)\n",
            "Requirement already satisfied: scipy in /usr/local/lib/python3.7/dist-packages (from evidently) (1.4.1)\n",
            "Requirement already satisfied: plotly in /usr/local/lib/python3.7/dist-packages (from evidently) (4.4.1)\n",
            "Requirement already satisfied: scikit-learn>=0.22.1 in /usr/local/lib/python3.7/dist-packages (from evidently) (0.22.2.post1)\n",
            "Requirement already satisfied: numpy in /usr/local/lib/python3.7/dist-packages (from evidently) (1.19.5)\n",
            "Collecting dataclasses\n",
            "  Downloading https://files.pythonhosted.org/packages/26/2f/1095cdc2868052dd1e64520f7c0d5c8c550ad297e944e641dbf1ffbb9a5d/dataclasses-0.6-py3-none-any.whl\n",
            "Requirement already satisfied: pyyaml in /usr/local/lib/python3.7/dist-packages (from evidently) (3.13)\n",
            "Requirement already satisfied: statsmodels in /usr/local/lib/python3.7/dist-packages (from evidently) (0.10.2)\n",
            "Requirement already satisfied: pytz>=2017.2 in /usr/local/lib/python3.7/dist-packages (from pandas->evidently) (2018.9)\n",
            "Requirement already satisfied: python-dateutil>=2.7.3 in /usr/local/lib/python3.7/dist-packages (from pandas->evidently) (2.8.1)\n",
            "Requirement already satisfied: retrying>=1.3.3 in /usr/local/lib/python3.7/dist-packages (from plotly->evidently) (1.3.3)\n",
            "Requirement already satisfied: six in /usr/local/lib/python3.7/dist-packages (from plotly->evidently) (1.15.0)\n",
            "Requirement already satisfied: joblib>=0.11 in /usr/local/lib/python3.7/dist-packages (from scikit-learn>=0.22.1->evidently) (1.0.1)\n",
            "Requirement already satisfied: patsy>=0.4.0 in /usr/local/lib/python3.7/dist-packages (from statsmodels->evidently) (0.5.1)\n",
            "Installing collected packages: dataclasses, evidently\n",
            "Successfully installed dataclasses-0.6 evidently-0.1.19.dev0\n"
          ],
          "name": "stdout"
        }
      ]
    },
    {
      "cell_type": "code",
      "metadata": {
        "id": "klZ4kTLvsvNF"
      },
      "source": [
        "import requests\n",
        "import pandas as pd\n",
        "import time\n",
        "from sklearn.model_selection import train_test_split\n",
        "from sklearn.model_selection import GridSearchCV\n",
        "from sklearn.svm import SVR\n",
        "import evidently\n",
        "import pickle"
      ],
      "execution_count": 2,
      "outputs": []
    },
    {
      "cell_type": "code",
      "metadata": {
        "colab": {
          "base_uri": "https://localhost:8080/"
        },
        "id": "_rXd3KU_9E0A",
        "outputId": "8b3b03bd-30b8-4528-8225-d5bec209d595"
      },
      "source": [
        "\n",
        "from google.colab import drive\n",
        "drive.mount('/content/gdrive')"
      ],
      "execution_count": 3,
      "outputs": [
        {
          "output_type": "stream",
          "text": [
            "Mounted at /content/gdrive\n"
          ],
          "name": "stdout"
        }
      ]
    },
    {
      "cell_type": "markdown",
      "metadata": {
        "id": "tfXGVr_z3n_a"
      },
      "source": [
        "This should work!  I'll now find the IDs of 5 cities I will use to predict Chicago's weather:\n",
        "\n",
        "Milwaukee\\\n",
        "Detroit\\\n",
        "Toronto\\\n",
        "St Louis\\\n",
        "Omaha, NE\n",
        "\n",
        "\n",
        "I'll use this site to look it up: https://www.findmecity.com/\n",
        "\n",
        "Milwaukee: 2451822\\\n",
        "Detroit: 2391585 \\\n",
        "Toronto: 4118\\\n",
        "St. Louis: 2486982\\\n",
        "Omaha, NE: 2465512\n",
        "\n",
        "I'll switch Toronto's WOEID for that of Phoenix: 2471390\n"
      ]
    },
    {
      "cell_type": "code",
      "metadata": {
        "colab": {
          "base_uri": "https://localhost:8080/"
        },
        "id": "9pVej1aQ2i6K",
        "outputId": "2d887dea-0113-4626-ce07-d39de8b414b2"
      },
      "source": [
        "#dictionary of cities\n",
        "cities = {'Milwaukee':'2451822', 'Detroit':'2391585', 'Toronto':'2471390', 'St. Louis':'2486982', 'Omaha':'2465512', 'Chicago':'2379574'} #phoenix for toronto\n",
        "\n",
        "#empty list to enter these into:\n",
        "values = []\n",
        "\n",
        "#loop through cities\n",
        "for k, v in cities.items():\n",
        "  #loop through 3 months\n",
        "  for mth in ['6']:\n",
        "    #just do days through 30, it's not time series, I don't care\n",
        "    for day in range(1, 15):\n",
        "      #what to request\n",
        "      strng = 'https://www.metaweather.com/api/location/' + v +'/2021/' + mth + '/' +str(day) + '/'\n",
        "      if day == 1:\n",
        "        print(strng)\n",
        "      reqst = requests.get(strng)\n",
        "      #get the pieces\n",
        "      date = pd.to_datetime(pd.DataFrame(reqst.json()).max()['created']).date()\n",
        "      maxtemp = pd.DataFrame(reqst.json()).max()['max_temp']\n",
        "      values.append([k, date, maxtemp])\n",
        "      time.sleep(3)\n",
        "\n",
        "\n",
        "\n"
      ],
      "execution_count": 4,
      "outputs": [
        {
          "output_type": "stream",
          "text": [
            "https://www.metaweather.com/api/location/2451822/2021/6/1/\n",
            "https://www.metaweather.com/api/location/2391585/2021/6/1/\n",
            "https://www.metaweather.com/api/location/2471390/2021/6/1/\n",
            "https://www.metaweather.com/api/location/2486982/2021/6/1/\n",
            "https://www.metaweather.com/api/location/2465512/2021/6/1/\n",
            "https://www.metaweather.com/api/location/2379574/2021/6/1/\n"
          ],
          "name": "stdout"
        }
      ]
    },
    {
      "cell_type": "code",
      "metadata": {
        "id": "3V40g9R4rpHL"
      },
      "source": [
        "import pickle\n",
        "\n",
        "#pickle.dump(values, open('.pkl', 'wb'))"
      ],
      "execution_count": 5,
      "outputs": []
    },
    {
      "cell_type": "code",
      "metadata": {
        "id": "BpFuwIRNwWJR"
      },
      "source": [
        "pd.DataFrame(values).to_csv('Test.csv')"
      ],
      "execution_count": 6,
      "outputs": []
    },
    {
      "cell_type": "code",
      "metadata": {
        "id": "5viSSBuk8ySS",
        "colab": {
          "base_uri": "https://localhost:8080/"
        },
        "outputId": "29543b29-feb6-4879-b419-132f65d43063"
      },
      "source": [
        "!ls"
      ],
      "execution_count": 7,
      "outputs": [
        {
          "output_type": "stream",
          "text": [
            "gdrive\tsample_data  Test.csv\n"
          ],
          "name": "stdout"
        }
      ]
    },
    {
      "cell_type": "code",
      "metadata": {
        "id": "UPk1oOn1214M"
      },
      "source": [
        "!cp Test.csv gdrive/MyDrive"
      ],
      "execution_count": 8,
      "outputs": []
    },
    {
      "cell_type": "markdown",
      "metadata": {
        "id": "eIuJ3P4Fi_VM"
      },
      "source": [
        "## Loading in this data (once saved), and the model\n",
        "\n",
        "Now I can prep to predict, and see how different it really is."
      ]
    },
    {
      "cell_type": "code",
      "metadata": {
        "id": "eYL_Lcpo27Fq"
      },
      "source": [
        "#load in data\n",
        "df = pd.read_csv()\n",
        "#load in model\n",
        "model = pickle.load(open('', 'rb'))"
      ],
      "execution_count": null,
      "outputs": []
    },
    {
      "cell_type": "code",
      "metadata": {
        "id": "ZUeQ_M9pNnxl"
      },
      "source": [
        "#Now, to rename the columns\n",
        "df.columns = ['drp', 'city', 'date', 'maxtemp']\n",
        "df.drop('drp', axis=1, inplace=True)"
      ],
      "execution_count": null,
      "outputs": []
    },
    {
      "cell_type": "code",
      "metadata": {
        "id": "qFow5DAMiHpU"
      },
      "source": [
        ""
      ],
      "execution_count": null,
      "outputs": []
    },
    {
      "cell_type": "markdown",
      "metadata": {
        "id": "BxAHaoiyjE6o"
      },
      "source": [
        "## Evidently"
      ]
    },
    {
      "cell_type": "code",
      "metadata": {
        "id": "KZMkaM8wjF_a"
      },
      "source": [
        ""
      ],
      "execution_count": null,
      "outputs": []
    }
  ]
}