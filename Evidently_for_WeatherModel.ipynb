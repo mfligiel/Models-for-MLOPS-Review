{
  "nbformat": 4,
  "nbformat_minor": 0,
  "metadata": {
    "colab": {
      "name": "Evidently for WeatherModel.ipynb",
      "provenance": [],
      "collapsed_sections": [],
      "authorship_tag": "ABX9TyMak/jjNG/YfFyRLz59o5MO",
      "include_colab_link": true
    },
    "kernelspec": {
      "name": "python3",
      "display_name": "Python 3"
    },
    "language_info": {
      "name": "python"
    }
  },
  "cells": [
    {
      "cell_type": "markdown",
      "metadata": {
        "id": "view-in-github",
        "colab_type": "text"
      },
      "source": [
        "<a href=\"https://colab.research.google.com/github/mfligiel/Models-for-MLOPS-Review/blob/main/Evidently_for_WeatherModel.ipynb\" target=\"_parent\"><img src=\"https://colab.research.google.com/assets/colab-badge.svg\" alt=\"Open In Colab\"/></a>"
      ]
    },
    {
      "cell_type": "markdown",
      "metadata": {
        "id": "aqFUAqIRsChP"
      },
      "source": [
        "## Weather Data\n",
        "\n",
        "I am going to predict Chicago's weather from the weather of 5 other places nearby using a weather API.  This model isn't the most useful, but is good for showcasing model monitoring.\n",
        "\n",
        "Here, I will pull in some June data, but replacing Toronto with Phoenix.  A bit of a different temperature distribution!"
      ]
    },
    {
      "cell_type": "code",
      "metadata": {
        "colab": {
          "base_uri": "https://localhost:8080/"
        },
        "id": "r-EYgp8ThUj1",
        "outputId": "8ca9de18-f74f-4284-81a3-2a158f9b6d26"
      },
      "source": [
        "!pip install evidently"
      ],
      "execution_count": 1,
      "outputs": [
        {
          "output_type": "stream",
          "text": [
            "Collecting evidently\n",
            "\u001b[?25l  Downloading https://files.pythonhosted.org/packages/8b/64/817e8fb176d8393eb2b49f5650957e7ddb11dc3f9d531deb9e26036f8553/evidently-0.1.19.dev0-py3-none-any.whl (15.2MB)\n",
            "\u001b[K     |████████████████████████████████| 15.2MB 190kB/s \n",
            "\u001b[?25hCollecting dataclasses\n",
            "  Downloading https://files.pythonhosted.org/packages/26/2f/1095cdc2868052dd1e64520f7c0d5c8c550ad297e944e641dbf1ffbb9a5d/dataclasses-0.6-py3-none-any.whl\n",
            "Requirement already satisfied: scipy in /usr/local/lib/python3.7/dist-packages (from evidently) (1.4.1)\n",
            "Requirement already satisfied: pyyaml in /usr/local/lib/python3.7/dist-packages (from evidently) (3.13)\n",
            "Requirement already satisfied: scikit-learn>=0.22.1 in /usr/local/lib/python3.7/dist-packages (from evidently) (0.22.2.post1)\n",
            "Requirement already satisfied: numpy in /usr/local/lib/python3.7/dist-packages (from evidently) (1.19.5)\n",
            "Requirement already satisfied: statsmodels in /usr/local/lib/python3.7/dist-packages (from evidently) (0.10.2)\n",
            "Requirement already satisfied: plotly in /usr/local/lib/python3.7/dist-packages (from evidently) (4.4.1)\n",
            "Requirement already satisfied: pandas in /usr/local/lib/python3.7/dist-packages (from evidently) (1.1.5)\n",
            "Requirement already satisfied: joblib>=0.11 in /usr/local/lib/python3.7/dist-packages (from scikit-learn>=0.22.1->evidently) (1.0.1)\n",
            "Requirement already satisfied: patsy>=0.4.0 in /usr/local/lib/python3.7/dist-packages (from statsmodels->evidently) (0.5.1)\n",
            "Requirement already satisfied: six in /usr/local/lib/python3.7/dist-packages (from plotly->evidently) (1.15.0)\n",
            "Requirement already satisfied: retrying>=1.3.3 in /usr/local/lib/python3.7/dist-packages (from plotly->evidently) (1.3.3)\n",
            "Requirement already satisfied: pytz>=2017.2 in /usr/local/lib/python3.7/dist-packages (from pandas->evidently) (2018.9)\n",
            "Requirement already satisfied: python-dateutil>=2.7.3 in /usr/local/lib/python3.7/dist-packages (from pandas->evidently) (2.8.1)\n",
            "Installing collected packages: dataclasses, evidently\n",
            "Successfully installed dataclasses-0.6 evidently-0.1.19.dev0\n"
          ],
          "name": "stdout"
        }
      ]
    },
    {
      "cell_type": "code",
      "metadata": {
        "id": "klZ4kTLvsvNF",
        "colab": {
          "base_uri": "https://localhost:8080/"
        },
        "outputId": "35f42d54-55b6-4aeb-c6b7-964aead188f4"
      },
      "source": [
        "import requests\n",
        "import pandas as pd\n",
        "import time\n",
        "from sklearn.model_selection import train_test_split\n",
        "from sklearn.model_selection import GridSearchCV\n",
        "from sklearn.svm import SVR\n",
        "import evidently\n",
        "from evidently.dashboard import Dashboard\n",
        "from evidently.tabs import DataDriftTab, CatTargetDriftTab\n",
        "from IPython.display import IFrame\n",
        "import pickle"
      ],
      "execution_count": 2,
      "outputs": [
        {
          "output_type": "stream",
          "text": [
            "/usr/local/lib/python3.7/dist-packages/statsmodels/tools/_testing.py:19: FutureWarning:\n",
            "\n",
            "pandas.util.testing is deprecated. Use the functions in the public API at pandas.testing instead.\n",
            "\n"
          ],
          "name": "stderr"
        }
      ]
    },
    {
      "cell_type": "code",
      "metadata": {
        "colab": {
          "base_uri": "https://localhost:8080/"
        },
        "id": "_rXd3KU_9E0A",
        "outputId": "bbe30aa0-1894-43f4-b8eb-e8e9ab720e4c"
      },
      "source": [
        "\n",
        "from google.colab import drive\n",
        "drive.mount('/content/gdrive')"
      ],
      "execution_count": 3,
      "outputs": [
        {
          "output_type": "stream",
          "text": [
            "Mounted at /content/gdrive\n"
          ],
          "name": "stdout"
        }
      ]
    },
    {
      "cell_type": "markdown",
      "metadata": {
        "id": "tfXGVr_z3n_a"
      },
      "source": [
        "This should work!  I'll now find the IDs of 5 cities I will use to predict Chicago's weather:\n",
        "\n",
        "Milwaukee\\\n",
        "Detroit\\\n",
        "Toronto\\\n",
        "St Louis\\\n",
        "Omaha, NE\n",
        "\n",
        "\n",
        "I'll use this site to look it up: https://www.findmecity.com/\n",
        "\n",
        "Milwaukee: 2451822\\\n",
        "Detroit: 2391585 \\\n",
        "Toronto: 4118\\\n",
        "St. Louis: 2486982\\\n",
        "Omaha, NE: 2465512\n",
        "\n",
        "I'll switch Toronto's WOEID for that of Phoenix: 2471390\n",
        "\n",
        "I'll run this once, and then comment it out for now."
      ]
    },
    {
      "cell_type": "code",
      "metadata": {
        "id": "9pVej1aQ2i6K"
      },
      "source": [
        "# #dictionary of cities\n",
        "# cities = {'Milwaukee':'2451822', 'Detroit':'2391585', 'Toronto':'2471390', 'St. Louis':'2486982', 'Omaha':'2465512', 'Chicago':'2379574'} #phoenix for toronto\n",
        "\n",
        "# #empty list to enter these into:\n",
        "# values = []\n",
        "\n",
        "# #loop through cities\n",
        "# for k, v in cities.items():\n",
        "#   #loop through 3 months\n",
        "#   for mth in ['6']:\n",
        "#     #just do days through 30, it's not time series, I don't care\n",
        "#     for day in range(1, 15):\n",
        "#       #what to request\n",
        "#       strng = 'https://www.metaweather.com/api/location/' + v +'/2021/' + mth + '/' +str(day) + '/'\n",
        "#       if day == 1:\n",
        "#         print(strng)\n",
        "#       reqst = requests.get(strng)\n",
        "#       #get the pieces\n",
        "#       date = pd.to_datetime(pd.DataFrame(reqst.json()).max()['created']).date()\n",
        "#       maxtemp = pd.DataFrame(reqst.json()).max()['max_temp']\n",
        "#       values.append([k, date, maxtemp])\n",
        "#       time.sleep(3)\n",
        "\n",
        "\n",
        "\n"
      ],
      "execution_count": 4,
      "outputs": []
    },
    {
      "cell_type": "code",
      "metadata": {
        "id": "BpFuwIRNwWJR"
      },
      "source": [
        "#pd.DataFrame(values).to_csv('Test.csv')"
      ],
      "execution_count": 5,
      "outputs": []
    },
    {
      "cell_type": "code",
      "metadata": {
        "id": "5viSSBuk8ySS",
        "colab": {
          "base_uri": "https://localhost:8080/"
        },
        "outputId": "5307611f-c329-40fe-f294-58c57c9ed6f0"
      },
      "source": [
        "#!ls"
      ],
      "execution_count": 6,
      "outputs": [
        {
          "output_type": "stream",
          "text": [
            "gdrive\tsample_data\n"
          ],
          "name": "stdout"
        }
      ]
    },
    {
      "cell_type": "code",
      "metadata": {
        "id": "UPk1oOn1214M"
      },
      "source": [
        "#!cp Test.csv gdrive/MyDrive"
      ],
      "execution_count": 8,
      "outputs": []
    },
    {
      "cell_type": "markdown",
      "metadata": {
        "id": "eIuJ3P4Fi_VM"
      },
      "source": [
        "## Loading in this data (once saved), and the model\n",
        "\n",
        "Now I can prep to predict, and see how different it really is."
      ]
    },
    {
      "cell_type": "code",
      "metadata": {
        "id": "eYL_Lcpo27Fq"
      },
      "source": [
        "#load in data\n",
        "df = pd.read_csv(r'/content/gdrive/MyDrive/ModelMonitoringBlog/Test.csv')\n",
        "#load in model\n",
        "model = pickle.load(open(r'/content/gdrive/MyDrive/ModelMonitoringBlog/weather_model.pkl', 'rb'))"
      ],
      "execution_count": 9,
      "outputs": []
    },
    {
      "cell_type": "code",
      "metadata": {
        "id": "ZUeQ_M9pNnxl"
      },
      "source": [
        "#Now, to rename the columns\n",
        "df.columns = ['drp', 'city', 'date', 'maxtemp']\n",
        "df.drop('drp', axis=1, inplace=True)"
      ],
      "execution_count": 10,
      "outputs": []
    },
    {
      "cell_type": "code",
      "metadata": {
        "id": "N-IUEcndUGvD"
      },
      "source": [
        "#reshape the data\n",
        "df = df.pivot(index='date', columns='city', values='maxtemp')"
      ],
      "execution_count": 11,
      "outputs": []
    },
    {
      "cell_type": "code",
      "metadata": {
        "colab": {
          "base_uri": "https://localhost:8080/",
          "height": 234
        },
        "id": "jzyqpjhzUI_r",
        "outputId": "c9113432-5c84-46be-8dfc-3c8976e780ad"
      },
      "source": [
        "df.head()"
      ],
      "execution_count": 12,
      "outputs": [
        {
          "output_type": "execute_result",
          "data": {
            "text/html": [
              "<div>\n",
              "<style scoped>\n",
              "    .dataframe tbody tr th:only-of-type {\n",
              "        vertical-align: middle;\n",
              "    }\n",
              "\n",
              "    .dataframe tbody tr th {\n",
              "        vertical-align: top;\n",
              "    }\n",
              "\n",
              "    .dataframe thead th {\n",
              "        text-align: right;\n",
              "    }\n",
              "</style>\n",
              "<table border=\"1\" class=\"dataframe\">\n",
              "  <thead>\n",
              "    <tr style=\"text-align: right;\">\n",
              "      <th>city</th>\n",
              "      <th>Chicago</th>\n",
              "      <th>Detroit</th>\n",
              "      <th>Milwaukee</th>\n",
              "      <th>Omaha</th>\n",
              "      <th>St. Louis</th>\n",
              "      <th>Toronto</th>\n",
              "    </tr>\n",
              "    <tr>\n",
              "      <th>date</th>\n",
              "      <th></th>\n",
              "      <th></th>\n",
              "      <th></th>\n",
              "      <th></th>\n",
              "      <th></th>\n",
              "      <th></th>\n",
              "    </tr>\n",
              "  </thead>\n",
              "  <tbody>\n",
              "    <tr>\n",
              "      <th>2021-06-02</th>\n",
              "      <td>23.700</td>\n",
              "      <td>25.790</td>\n",
              "      <td>23.15</td>\n",
              "      <td>26.060</td>\n",
              "      <td>29.230</td>\n",
              "      <td>40.120</td>\n",
              "    </tr>\n",
              "    <tr>\n",
              "      <th>2021-06-03</th>\n",
              "      <td>24.420</td>\n",
              "      <td>24.910</td>\n",
              "      <td>22.73</td>\n",
              "      <td>27.475</td>\n",
              "      <td>28.090</td>\n",
              "      <td>41.715</td>\n",
              "    </tr>\n",
              "    <tr>\n",
              "      <th>2021-06-04</th>\n",
              "      <td>28.055</td>\n",
              "      <td>26.210</td>\n",
              "      <td>28.65</td>\n",
              "      <td>29.965</td>\n",
              "      <td>28.675</td>\n",
              "      <td>41.960</td>\n",
              "    </tr>\n",
              "    <tr>\n",
              "      <th>2021-06-05</th>\n",
              "      <td>30.675</td>\n",
              "      <td>30.885</td>\n",
              "      <td>31.51</td>\n",
              "      <td>33.610</td>\n",
              "      <td>30.565</td>\n",
              "      <td>42.410</td>\n",
              "    </tr>\n",
              "    <tr>\n",
              "      <th>2021-06-06</th>\n",
              "      <td>31.375</td>\n",
              "      <td>31.790</td>\n",
              "      <td>31.80</td>\n",
              "      <td>33.165</td>\n",
              "      <td>33.330</td>\n",
              "      <td>42.070</td>\n",
              "    </tr>\n",
              "  </tbody>\n",
              "</table>\n",
              "</div>"
            ],
            "text/plain": [
              "city        Chicago  Detroit  Milwaukee   Omaha  St. Louis  Toronto\n",
              "date                                                               \n",
              "2021-06-02   23.700   25.790      23.15  26.060     29.230   40.120\n",
              "2021-06-03   24.420   24.910      22.73  27.475     28.090   41.715\n",
              "2021-06-04   28.055   26.210      28.65  29.965     28.675   41.960\n",
              "2021-06-05   30.675   30.885      31.51  33.610     30.565   42.410\n",
              "2021-06-06   31.375   31.790      31.80  33.165     33.330   42.070"
            ]
          },
          "metadata": {
            "tags": []
          },
          "execution_count": 12
        }
      ]
    },
    {
      "cell_type": "markdown",
      "metadata": {
        "id": "kH-oonl3TkE-"
      },
      "source": [
        "Let's make a prediction."
      ]
    },
    {
      "cell_type": "code",
      "metadata": {
        "id": "4RNUi0-EULLs"
      },
      "source": [
        "predictions = model.predict(df.drop('Chicago', axis=1))"
      ],
      "execution_count": 13,
      "outputs": []
    },
    {
      "cell_type": "code",
      "metadata": {
        "colab": {
          "base_uri": "https://localhost:8080/"
        },
        "id": "0Kaqpf8BVBme",
        "outputId": "03497477-8f3a-4989-ec7b-8d7bf60fdf24"
      },
      "source": [
        "df['Chicago'] - predictions"
      ],
      "execution_count": 14,
      "outputs": [
        {
          "output_type": "execute_result",
          "data": {
            "text/plain": [
              "date\n",
              "2021-06-02    0.252094\n",
              "2021-06-03    1.663958\n",
              "2021-06-04    1.463601\n",
              "2021-06-05    0.412679\n",
              "2021-06-06    0.194342\n",
              "2021-06-07    1.332528\n",
              "2021-06-08    0.825372\n",
              "2021-06-09    0.262758\n",
              "2021-06-10   -1.233267\n",
              "2021-06-11   -0.465028\n",
              "2021-06-12   -0.681110\n",
              "2021-06-13   -0.408895\n",
              "2021-06-14   -0.015240\n",
              "2021-06-15    0.750277\n",
              "Name: Chicago, dtype: float64"
            ]
          },
          "metadata": {
            "tags": []
          },
          "execution_count": 14
        }
      ]
    },
    {
      "cell_type": "markdown",
      "metadata": {
        "id": "BxAHaoiyjE6o"
      },
      "source": [
        "## Evidently\n",
        "\n",
        "In order to generate reports, I will need to load in the old data:\n"
      ]
    },
    {
      "cell_type": "code",
      "metadata": {
        "colab": {
          "base_uri": "https://localhost:8080/"
        },
        "id": "b3wEXqX7h7Bf",
        "outputId": "979b88d1-8983-43fb-d56a-f577b53c9ece"
      },
      "source": [
        "#re creating the dictionary above \n",
        "cities = {'Milwaukee':'2451822', 'Detroit':'2391585', 'Toronto':'4118', 'St. Louis':'2486982', 'Omaha':'2465512', 'Chicago':'2379574'}\n",
        "\n",
        "df_old = pd.DataFrame()\n",
        "\n",
        "for i in cities.keys():\n",
        "  if i == 'St. Louis':\n",
        "    i = 'St_Louis'\n",
        "  pth = \"gdrive/MyDrive/ModelMonitoringBlog/\" + i + \".csv\"\n",
        "  print(pth)\n",
        "  to_append = pd.read_csv(pth)\n",
        "  #print(to_append.head())\n",
        "  if df_old.empty:\n",
        "    df_old = to_append\n",
        "    print(df_old.empty)\n",
        "  else:\n",
        "    df_old = pd.concat([df_old, to_append], ignore_index=True)\n",
        "  \n"
      ],
      "execution_count": 15,
      "outputs": [
        {
          "output_type": "stream",
          "text": [
            "gdrive/MyDrive/ModelMonitoringBlog/Milwaukee.csv\n",
            "False\n",
            "gdrive/MyDrive/ModelMonitoringBlog/Detroit.csv\n",
            "gdrive/MyDrive/ModelMonitoringBlog/Toronto.csv\n",
            "gdrive/MyDrive/ModelMonitoringBlog/St_Louis.csv\n",
            "gdrive/MyDrive/ModelMonitoringBlog/Omaha.csv\n",
            "gdrive/MyDrive/ModelMonitoringBlog/Chicago.csv\n"
          ],
          "name": "stdout"
        }
      ]
    },
    {
      "cell_type": "code",
      "metadata": {
        "id": "GpmFh0JgiNoT"
      },
      "source": [
        "#Now, to rename the columns\n",
        "df_old.columns = ['drp', 'city', 'date', 'maxtemp']\n",
        "df_old.drop('drp', axis=1, inplace=True)\n",
        "df_old = df_old.pivot(index='date', columns='city', values='maxtemp')"
      ],
      "execution_count": 16,
      "outputs": []
    },
    {
      "cell_type": "code",
      "metadata": {
        "id": "KZMkaM8wjF_a"
      },
      "source": [
        "weather_data_drift_report = Dashboard(tabs=[DataDriftTab])\n",
        "weather_data_drift_report.calculate(df_old.drop('Chicago', axis=1), df.drop('Chicago', axis=1), column_mapping = None)\n",
        "weather_data_drift_report.save(\"gdrive/MyDrive/ModelMonitoringBlog/reports/my_report_with_2_tabs.html\")\n"
      ],
      "execution_count": 17,
      "outputs": []
    },
    {
      "cell_type": "markdown",
      "metadata": {
        "id": "o_jwAyV2i9bT"
      },
      "source": [
        "Even though this code is almost directly from their example, I had to find where CatTargetDriftTab is (though I quickly remembered it wasn't applicable with this data).  This does seem super easy!  But it does seem like you'd need some old data, so this wouldn't necessarily be great for an ongoing use case.\n",
        "\n",
        "Also, as I am (possibly?) on windows in Colab, I cannot directly build this in the notebook."
      ]
    },
    {
      "cell_type": "code",
      "metadata": {
        "colab": {
          "base_uri": "https://localhost:8080/",
          "height": 621
        },
        "id": "Ikih03ipiYhO",
        "outputId": "65ae8ab7-a2f3-42f0-d141-d47cec572ce0"
      },
      "source": [
        "\n",
        "IFrame(src=\"gdrive/MyDrive/ModelMonitoringBlog/reports/my_report_with_2_tabs.html\", width=700, height=600)\n",
        "\n"
      ],
      "execution_count": 18,
      "outputs": [
        {
          "output_type": "execute_result",
          "data": {
            "text/html": [
              "\n",
              "        <iframe\n",
              "            width=\"700\"\n",
              "            height=\"600\"\n",
              "            src=\"gdrive/MyDrive/ModelMonitoringBlog/reports/my_report_with_2_tabs.html\"\n",
              "            frameborder=\"0\"\n",
              "            allowfullscreen\n",
              "        ></iframe>\n",
              "        "
            ],
            "text/plain": [
              "<IPython.lib.display.IFrame at 0x7f17ea9fead0>"
            ]
          },
          "metadata": {
            "tags": []
          },
          "execution_count": 18
        }
      ]
    },
    {
      "cell_type": "markdown",
      "metadata": {
        "id": "tGM2I027lluT"
      },
      "source": [
        "It seems to detect an issue in each one, which makes sense, as it is comparing June to other months.  I will look later at taking a sample from Feb-May of the previous year to predict.  However, it only says if drift is detected or not detected, and the charts do leave some room for interpretation - it isn't always clear what the axes of each are!"
      ]
    },
    {
      "cell_type": "code",
      "metadata": {
        "id": "_Z3KaxISkx1o"
      },
      "source": [
        "# #dictionary of cities\n",
        "# cities = {'Milwaukee':'2451822', 'Detroit':'2391585', 'Toronto':'2471390', 'St. Louis':'2486982', 'Omaha':'2465512', 'Chicago':'2379574'} #phoenix for toronto\n",
        "\n",
        "# #empty list to enter these into:\n",
        "# values = []\n",
        "\n",
        "# #loop through cities\n",
        "# for k, v in cities.items():\n",
        "#   #loop through 3 months\n",
        "#   for mth in ['3','4','5']:\n",
        "#     #just do days through 10, it's not time series, I don't care\n",
        "#     for day in range(1, 10):\n",
        "#       #what to request\n",
        "#       strng = 'https://www.metaweather.com/api/location/' + v +'/2020/' + mth + '/' +str(day) + '/'\n",
        "#       if day == 1:\n",
        "#         print(strng)\n",
        "#       reqst = requests.get(strng)\n",
        "#       #get the pieces\n",
        "#       date = pd.to_datetime(pd.DataFrame(reqst.json()).max()['created']).date()\n",
        "#       maxtemp = pd.DataFrame(reqst.json()).max()['max_temp']\n",
        "#       values.append([k, date, maxtemp])\n",
        "#       time.sleep(3)\n",
        "\n",
        "\n",
        "# pd.DataFrame(values).to_csv('Weather2020.csv')\n"
      ],
      "execution_count": 19,
      "outputs": []
    },
    {
      "cell_type": "code",
      "metadata": {
        "id": "GDtxCQF6rQW1"
      },
      "source": [
        "#!ls"
      ],
      "execution_count": 20,
      "outputs": []
    },
    {
      "cell_type": "code",
      "metadata": {
        "id": "5oci1l10oQki"
      },
      "source": [
        "#!cp Weather2020.csv gdrive/MyDrive/ModelMonitoringBlog/"
      ],
      "execution_count": 21,
      "outputs": []
    },
    {
      "cell_type": "markdown",
      "metadata": {
        "id": "3-hA3zO2zhJz"
      },
      "source": [
        "Now I can load this in and compare it."
      ]
    },
    {
      "cell_type": "code",
      "metadata": {
        "id": "FjDtpKmCrZ0G"
      },
      "source": [
        "w2020 = pd.read_csv(r'/content/gdrive/MyDrive/ModelMonitoringBlog/Weather2020.csv')\n",
        "#Now, to rename the columns\n",
        "w2020.columns = ['drp', 'city', 'date', 'maxtemp']\n",
        "w2020.drop('drp', axis=1, inplace=True)\n",
        "w2020 = w2020.pivot(index='date', columns='city', values='maxtemp')"
      ],
      "execution_count": 22,
      "outputs": []
    },
    {
      "cell_type": "code",
      "metadata": {
        "colab": {
          "base_uri": "https://localhost:8080/",
          "height": 911
        },
        "id": "1dNt1dcPzog6",
        "outputId": "5db730f3-832e-486e-8e6f-5b00af1ba2bc"
      },
      "source": [
        "w2020"
      ],
      "execution_count": 23,
      "outputs": [
        {
          "output_type": "execute_result",
          "data": {
            "text/html": [
              "<div>\n",
              "<style scoped>\n",
              "    .dataframe tbody tr th:only-of-type {\n",
              "        vertical-align: middle;\n",
              "    }\n",
              "\n",
              "    .dataframe tbody tr th {\n",
              "        vertical-align: top;\n",
              "    }\n",
              "\n",
              "    .dataframe thead th {\n",
              "        text-align: right;\n",
              "    }\n",
              "</style>\n",
              "<table border=\"1\" class=\"dataframe\">\n",
              "  <thead>\n",
              "    <tr style=\"text-align: right;\">\n",
              "      <th>city</th>\n",
              "      <th>Chicago</th>\n",
              "      <th>Detroit</th>\n",
              "      <th>Milwaukee</th>\n",
              "      <th>Omaha</th>\n",
              "      <th>St. Louis</th>\n",
              "      <th>Toronto</th>\n",
              "    </tr>\n",
              "    <tr>\n",
              "      <th>date</th>\n",
              "      <th></th>\n",
              "      <th></th>\n",
              "      <th></th>\n",
              "      <th></th>\n",
              "      <th></th>\n",
              "      <th></th>\n",
              "    </tr>\n",
              "  </thead>\n",
              "  <tbody>\n",
              "    <tr>\n",
              "      <th>2020-03-02</th>\n",
              "      <td>11.605</td>\n",
              "      <td>6.565</td>\n",
              "      <td>11.400</td>\n",
              "      <td>16.785</td>\n",
              "      <td>19.720</td>\n",
              "      <td>26.570</td>\n",
              "    </tr>\n",
              "    <tr>\n",
              "      <th>2020-03-03</th>\n",
              "      <td>8.580</td>\n",
              "      <td>11.250</td>\n",
              "      <td>8.015</td>\n",
              "      <td>14.060</td>\n",
              "      <td>20.145</td>\n",
              "      <td>22.890</td>\n",
              "    </tr>\n",
              "    <tr>\n",
              "      <th>2020-03-04</th>\n",
              "      <td>8.410</td>\n",
              "      <td>11.735</td>\n",
              "      <td>8.635</td>\n",
              "      <td>15.215</td>\n",
              "      <td>18.690</td>\n",
              "      <td>24.455</td>\n",
              "    </tr>\n",
              "    <tr>\n",
              "      <th>2020-03-05</th>\n",
              "      <td>9.310</td>\n",
              "      <td>11.615</td>\n",
              "      <td>9.545</td>\n",
              "      <td>16.970</td>\n",
              "      <td>18.040</td>\n",
              "      <td>24.730</td>\n",
              "    </tr>\n",
              "    <tr>\n",
              "      <th>2020-03-06</th>\n",
              "      <td>11.425</td>\n",
              "      <td>12.675</td>\n",
              "      <td>11.955</td>\n",
              "      <td>19.195</td>\n",
              "      <td>20.020</td>\n",
              "      <td>28.780</td>\n",
              "    </tr>\n",
              "    <tr>\n",
              "      <th>2020-03-07</th>\n",
              "      <td>8.460</td>\n",
              "      <td>10.090</td>\n",
              "      <td>12.340</td>\n",
              "      <td>20.550</td>\n",
              "      <td>18.970</td>\n",
              "      <td>29.850</td>\n",
              "    </tr>\n",
              "    <tr>\n",
              "      <th>2020-03-08</th>\n",
              "      <td>10.005</td>\n",
              "      <td>7.830</td>\n",
              "      <td>11.605</td>\n",
              "      <td>21.255</td>\n",
              "      <td>17.450</td>\n",
              "      <td>28.520</td>\n",
              "    </tr>\n",
              "    <tr>\n",
              "      <th>2020-03-09</th>\n",
              "      <td>16.635</td>\n",
              "      <td>15.340</td>\n",
              "      <td>15.610</td>\n",
              "      <td>21.760</td>\n",
              "      <td>21.100</td>\n",
              "      <td>25.510</td>\n",
              "    </tr>\n",
              "    <tr>\n",
              "      <th>2020-03-10</th>\n",
              "      <td>12.425</td>\n",
              "      <td>17.650</td>\n",
              "      <td>13.680</td>\n",
              "      <td>17.890</td>\n",
              "      <td>17.335</td>\n",
              "      <td>26.510</td>\n",
              "    </tr>\n",
              "    <tr>\n",
              "      <th>2020-04-02</th>\n",
              "      <td>11.280</td>\n",
              "      <td>17.280</td>\n",
              "      <td>14.070</td>\n",
              "      <td>22.920</td>\n",
              "      <td>20.780</td>\n",
              "      <td>31.070</td>\n",
              "    </tr>\n",
              "    <tr>\n",
              "      <th>2020-04-03</th>\n",
              "      <td>13.160</td>\n",
              "      <td>15.250</td>\n",
              "      <td>12.310</td>\n",
              "      <td>20.970</td>\n",
              "      <td>20.510</td>\n",
              "      <td>30.515</td>\n",
              "    </tr>\n",
              "    <tr>\n",
              "      <th>2020-04-04</th>\n",
              "      <td>17.600</td>\n",
              "      <td>15.765</td>\n",
              "      <td>14.505</td>\n",
              "      <td>20.070</td>\n",
              "      <td>21.000</td>\n",
              "      <td>32.025</td>\n",
              "    </tr>\n",
              "    <tr>\n",
              "      <th>2020-04-05</th>\n",
              "      <td>13.680</td>\n",
              "      <td>16.550</td>\n",
              "      <td>13.390</td>\n",
              "      <td>12.860</td>\n",
              "      <td>16.890</td>\n",
              "      <td>32.140</td>\n",
              "    </tr>\n",
              "    <tr>\n",
              "      <th>2020-04-06</th>\n",
              "      <td>13.000</td>\n",
              "      <td>16.300</td>\n",
              "      <td>14.060</td>\n",
              "      <td>18.145</td>\n",
              "      <td>20.825</td>\n",
              "      <td>31.390</td>\n",
              "    </tr>\n",
              "    <tr>\n",
              "      <th>2020-04-07</th>\n",
              "      <td>16.400</td>\n",
              "      <td>17.495</td>\n",
              "      <td>16.650</td>\n",
              "      <td>25.035</td>\n",
              "      <td>25.845</td>\n",
              "      <td>29.270</td>\n",
              "    </tr>\n",
              "    <tr>\n",
              "      <th>2020-04-08</th>\n",
              "      <td>24.260</td>\n",
              "      <td>21.460</td>\n",
              "      <td>21.500</td>\n",
              "      <td>29.295</td>\n",
              "      <td>29.370</td>\n",
              "      <td>28.705</td>\n",
              "    </tr>\n",
              "    <tr>\n",
              "      <th>2020-04-09</th>\n",
              "      <td>19.420</td>\n",
              "      <td>21.985</td>\n",
              "      <td>20.160</td>\n",
              "      <td>25.950</td>\n",
              "      <td>31.405</td>\n",
              "      <td>27.150</td>\n",
              "    </tr>\n",
              "    <tr>\n",
              "      <th>2020-04-10</th>\n",
              "      <td>20.230</td>\n",
              "      <td>21.430</td>\n",
              "      <td>21.610</td>\n",
              "      <td>18.725</td>\n",
              "      <td>24.740</td>\n",
              "      <td>24.170</td>\n",
              "    </tr>\n",
              "    <tr>\n",
              "      <th>2020-05-02</th>\n",
              "      <td>19.980</td>\n",
              "      <td>18.225</td>\n",
              "      <td>22.790</td>\n",
              "      <td>31.505</td>\n",
              "      <td>26.500</td>\n",
              "      <td>39.260</td>\n",
              "    </tr>\n",
              "    <tr>\n",
              "      <th>2020-05-03</th>\n",
              "      <td>23.260</td>\n",
              "      <td>23.815</td>\n",
              "      <td>23.890</td>\n",
              "      <td>26.460</td>\n",
              "      <td>30.175</td>\n",
              "      <td>38.040</td>\n",
              "    </tr>\n",
              "    <tr>\n",
              "      <th>2020-05-04</th>\n",
              "      <td>20.755</td>\n",
              "      <td>23.390</td>\n",
              "      <td>21.165</td>\n",
              "      <td>24.910</td>\n",
              "      <td>29.180</td>\n",
              "      <td>37.840</td>\n",
              "    </tr>\n",
              "    <tr>\n",
              "      <th>2020-05-05</th>\n",
              "      <td>18.340</td>\n",
              "      <td>20.980</td>\n",
              "      <td>21.790</td>\n",
              "      <td>23.340</td>\n",
              "      <td>28.510</td>\n",
              "      <td>36.895</td>\n",
              "    </tr>\n",
              "    <tr>\n",
              "      <th>2020-05-06</th>\n",
              "      <td>18.340</td>\n",
              "      <td>17.160</td>\n",
              "      <td>12.830</td>\n",
              "      <td>22.005</td>\n",
              "      <td>27.310</td>\n",
              "      <td>38.960</td>\n",
              "    </tr>\n",
              "    <tr>\n",
              "      <th>2020-05-07</th>\n",
              "      <td>16.925</td>\n",
              "      <td>17.160</td>\n",
              "      <td>16.600</td>\n",
              "      <td>22.215</td>\n",
              "      <td>22.095</td>\n",
              "      <td>41.150</td>\n",
              "    </tr>\n",
              "    <tr>\n",
              "      <th>2020-05-08</th>\n",
              "      <td>21.250</td>\n",
              "      <td>17.545</td>\n",
              "      <td>20.260</td>\n",
              "      <td>24.850</td>\n",
              "      <td>24.330</td>\n",
              "      <td>41.450</td>\n",
              "    </tr>\n",
              "    <tr>\n",
              "      <th>2020-05-09</th>\n",
              "      <td>15.780</td>\n",
              "      <td>17.440</td>\n",
              "      <td>15.750</td>\n",
              "      <td>18.640</td>\n",
              "      <td>19.230</td>\n",
              "      <td>40.855</td>\n",
              "    </tr>\n",
              "    <tr>\n",
              "      <th>2020-05-10</th>\n",
              "      <td>13.560</td>\n",
              "      <td>14.270</td>\n",
              "      <td>13.605</td>\n",
              "      <td>20.010</td>\n",
              "      <td>18.295</td>\n",
              "      <td>40.705</td>\n",
              "    </tr>\n",
              "  </tbody>\n",
              "</table>\n",
              "</div>"
            ],
            "text/plain": [
              "city        Chicago  Detroit  Milwaukee   Omaha  St. Louis  Toronto\n",
              "date                                                               \n",
              "2020-03-02   11.605    6.565     11.400  16.785     19.720   26.570\n",
              "2020-03-03    8.580   11.250      8.015  14.060     20.145   22.890\n",
              "2020-03-04    8.410   11.735      8.635  15.215     18.690   24.455\n",
              "2020-03-05    9.310   11.615      9.545  16.970     18.040   24.730\n",
              "2020-03-06   11.425   12.675     11.955  19.195     20.020   28.780\n",
              "2020-03-07    8.460   10.090     12.340  20.550     18.970   29.850\n",
              "2020-03-08   10.005    7.830     11.605  21.255     17.450   28.520\n",
              "2020-03-09   16.635   15.340     15.610  21.760     21.100   25.510\n",
              "2020-03-10   12.425   17.650     13.680  17.890     17.335   26.510\n",
              "2020-04-02   11.280   17.280     14.070  22.920     20.780   31.070\n",
              "2020-04-03   13.160   15.250     12.310  20.970     20.510   30.515\n",
              "2020-04-04   17.600   15.765     14.505  20.070     21.000   32.025\n",
              "2020-04-05   13.680   16.550     13.390  12.860     16.890   32.140\n",
              "2020-04-06   13.000   16.300     14.060  18.145     20.825   31.390\n",
              "2020-04-07   16.400   17.495     16.650  25.035     25.845   29.270\n",
              "2020-04-08   24.260   21.460     21.500  29.295     29.370   28.705\n",
              "2020-04-09   19.420   21.985     20.160  25.950     31.405   27.150\n",
              "2020-04-10   20.230   21.430     21.610  18.725     24.740   24.170\n",
              "2020-05-02   19.980   18.225     22.790  31.505     26.500   39.260\n",
              "2020-05-03   23.260   23.815     23.890  26.460     30.175   38.040\n",
              "2020-05-04   20.755   23.390     21.165  24.910     29.180   37.840\n",
              "2020-05-05   18.340   20.980     21.790  23.340     28.510   36.895\n",
              "2020-05-06   18.340   17.160     12.830  22.005     27.310   38.960\n",
              "2020-05-07   16.925   17.160     16.600  22.215     22.095   41.150\n",
              "2020-05-08   21.250   17.545     20.260  24.850     24.330   41.450\n",
              "2020-05-09   15.780   17.440     15.750  18.640     19.230   40.855\n",
              "2020-05-10   13.560   14.270     13.605  20.010     18.295   40.705"
            ]
          },
          "metadata": {
            "tags": []
          },
          "execution_count": 23
        }
      ]
    },
    {
      "cell_type": "code",
      "metadata": {
        "id": "u2l_TRm6zqOU"
      },
      "source": [
        "predictions2020 = model.predict(w2020.drop('Chicago', axis=1))"
      ],
      "execution_count": 25,
      "outputs": []
    },
    {
      "cell_type": "code",
      "metadata": {
        "colab": {
          "base_uri": "https://localhost:8080/"
        },
        "id": "8hdwmPizzv-z",
        "outputId": "741c3558-2657-4903-e71c-b994d7d44549"
      },
      "source": [
        "w2020['Chicago'] - predictions2020"
      ],
      "execution_count": 27,
      "outputs": [
        {
          "output_type": "execute_result",
          "data": {
            "text/plain": [
              "date\n",
              "2020-03-02    2.516554\n",
              "2020-03-03   -0.376788\n",
              "2020-03-04   -0.795456\n",
              "2020-03-05   -0.340018\n",
              "2020-03-06   -0.153182\n",
              "2020-03-07   -2.308167\n",
              "2020-03-08    0.532318\n",
              "2020-03-09    1.679587\n",
              "2020-03-10   -1.313858\n",
              "2020-04-02   -3.270832\n",
              "2020-04-03    0.390888\n",
              "2020-04-04    3.560140\n",
              "2020-04-05    1.209856\n",
              "2020-04-06   -0.845977\n",
              "2020-04-07   -0.701304\n",
              "2020-04-08    2.302799\n",
              "2020-04-09   -2.187732\n",
              "2020-04-10   -0.423680\n",
              "2020-05-02   -0.688398\n",
              "2020-05-03   -0.204281\n",
              "2020-05-04   -0.852827\n",
              "2020-05-05   -2.593346\n",
              "2020-05-06    3.838542\n",
              "2020-05-07    1.426937\n",
              "2020-05-08    3.128059\n",
              "2020-05-09    1.377549\n",
              "2020-05-10    1.416158\n",
              "Name: Chicago, dtype: float64"
            ]
          },
          "metadata": {
            "tags": []
          },
          "execution_count": 27
        }
      ]
    },
    {
      "cell_type": "markdown",
      "metadata": {
        "id": "k_C9x5uk0DcH"
      },
      "source": [
        "Let's look at this with evidently."
      ]
    },
    {
      "cell_type": "code",
      "metadata": {
        "id": "63ToIkJrz29T"
      },
      "source": [
        "weather_data_drift_report_2 = Dashboard(tabs=[DataDriftTab])\n",
        "weather_data_drift_report_2.calculate(df_old.drop('Chicago', axis=1), w2020.drop('Chicago', axis=1), column_mapping = None)\n",
        "weather_data_drift_report_2.save(\"gdrive/MyDrive/ModelMonitoringBlog/reports/2020_weather_report.html\")\n"
      ],
      "execution_count": 28,
      "outputs": []
    },
    {
      "cell_type": "code",
      "metadata": {
        "id": "8pL2pqXr0Icq"
      },
      "source": [
        ""
      ],
      "execution_count": null,
      "outputs": []
    }
  ]
}