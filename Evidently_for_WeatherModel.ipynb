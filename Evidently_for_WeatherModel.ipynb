{
  "nbformat": 4,
  "nbformat_minor": 0,
  "metadata": {
    "colab": {
      "name": "Evidently for WeatherModel.ipynb",
      "provenance": [],
      "collapsed_sections": [],
      "authorship_tag": "ABX9TyPvScw3XYodLlrnE9A0VaxF",
      "include_colab_link": true
    },
    "kernelspec": {
      "name": "python3",
      "display_name": "Python 3"
    },
    "language_info": {
      "name": "python"
    }
  },
  "cells": [
    {
      "cell_type": "markdown",
      "metadata": {
        "id": "view-in-github",
        "colab_type": "text"
      },
      "source": [
        "<a href=\"https://colab.research.google.com/github/mfligiel/Models-for-MLOPS-Review/blob/main/Evidently_for_WeatherModel.ipynb\" target=\"_parent\"><img src=\"https://colab.research.google.com/assets/colab-badge.svg\" alt=\"Open In Colab\"/></a>"
      ]
    },
    {
      "cell_type": "markdown",
      "metadata": {
        "id": "aqFUAqIRsChP"
      },
      "source": [
        "## Weather Data\n",
        "\n",
        "I am going to predict Chicago's weather from the weather of 5 other places nearby using a weather API.  This model isn't the most useful, but is good for showcasing model monitoring.\n",
        "\n",
        "Here, I will pull in some June data, but replacing Toronto with Phoenix.  A bit of a different temperature distribution!"
      ]
    },
    {
      "cell_type": "code",
      "metadata": {
        "colab": {
          "base_uri": "https://localhost:8080/"
        },
        "id": "r-EYgp8ThUj1",
        "outputId": "1511c9f2-f8ea-4de1-e423-83d2e15b3a05"
      },
      "source": [
        "!pip install evidently"
      ],
      "execution_count": 1,
      "outputs": [
        {
          "output_type": "stream",
          "text": [
            "Collecting evidently\n",
            "\u001b[?25l  Downloading https://files.pythonhosted.org/packages/8b/64/817e8fb176d8393eb2b49f5650957e7ddb11dc3f9d531deb9e26036f8553/evidently-0.1.19.dev0-py3-none-any.whl (15.2MB)\n",
            "\u001b[K     |████████████████████████████████| 15.2MB 163kB/s \n",
            "\u001b[?25hRequirement already satisfied: pandas in /usr/local/lib/python3.7/dist-packages (from evidently) (1.1.5)\n",
            "Requirement already satisfied: numpy in /usr/local/lib/python3.7/dist-packages (from evidently) (1.19.5)\n",
            "Requirement already satisfied: scipy in /usr/local/lib/python3.7/dist-packages (from evidently) (1.4.1)\n",
            "Requirement already satisfied: scikit-learn>=0.22.1 in /usr/local/lib/python3.7/dist-packages (from evidently) (0.22.2.post1)\n",
            "Requirement already satisfied: statsmodels in /usr/local/lib/python3.7/dist-packages (from evidently) (0.10.2)\n",
            "Requirement already satisfied: plotly in /usr/local/lib/python3.7/dist-packages (from evidently) (4.4.1)\n",
            "Collecting dataclasses\n",
            "  Downloading https://files.pythonhosted.org/packages/26/2f/1095cdc2868052dd1e64520f7c0d5c8c550ad297e944e641dbf1ffbb9a5d/dataclasses-0.6-py3-none-any.whl\n",
            "Requirement already satisfied: pyyaml in /usr/local/lib/python3.7/dist-packages (from evidently) (3.13)\n",
            "Requirement already satisfied: python-dateutil>=2.7.3 in /usr/local/lib/python3.7/dist-packages (from pandas->evidently) (2.8.1)\n",
            "Requirement already satisfied: pytz>=2017.2 in /usr/local/lib/python3.7/dist-packages (from pandas->evidently) (2018.9)\n",
            "Requirement already satisfied: joblib>=0.11 in /usr/local/lib/python3.7/dist-packages (from scikit-learn>=0.22.1->evidently) (1.0.1)\n",
            "Requirement already satisfied: patsy>=0.4.0 in /usr/local/lib/python3.7/dist-packages (from statsmodels->evidently) (0.5.1)\n",
            "Requirement already satisfied: retrying>=1.3.3 in /usr/local/lib/python3.7/dist-packages (from plotly->evidently) (1.3.3)\n",
            "Requirement already satisfied: six in /usr/local/lib/python3.7/dist-packages (from plotly->evidently) (1.15.0)\n",
            "Installing collected packages: dataclasses, evidently\n",
            "Successfully installed dataclasses-0.6 evidently-0.1.19.dev0\n"
          ],
          "name": "stdout"
        }
      ]
    },
    {
      "cell_type": "code",
      "metadata": {
        "id": "klZ4kTLvsvNF"
      },
      "source": [
        "import requests\n",
        "import pandas as pd\n",
        "import time\n",
        "from sklearn.model_selection import train_test_split\n",
        "from sklearn.model_selection import GridSearchCV\n",
        "from sklearn.svm import SVR\n",
        "import evidently\n",
        "from evidently.dashboard import Dashboard\n",
        "from evidently.tabs import DataDriftTab, CatTargetDriftTab\n",
        "from IPython.display import IFrame\n",
        "import pickle"
      ],
      "execution_count": 24,
      "outputs": []
    },
    {
      "cell_type": "code",
      "metadata": {
        "colab": {
          "base_uri": "https://localhost:8080/"
        },
        "id": "_rXd3KU_9E0A",
        "outputId": "c5b00844-2690-4b9a-a325-e456c648cfa2"
      },
      "source": [
        "\n",
        "from google.colab import drive\n",
        "drive.mount('/content/gdrive')"
      ],
      "execution_count": 3,
      "outputs": [
        {
          "output_type": "stream",
          "text": [
            "Mounted at /content/gdrive\n"
          ],
          "name": "stdout"
        }
      ]
    },
    {
      "cell_type": "markdown",
      "metadata": {
        "id": "tfXGVr_z3n_a"
      },
      "source": [
        "This should work!  I'll now find the IDs of 5 cities I will use to predict Chicago's weather:\n",
        "\n",
        "Milwaukee\\\n",
        "Detroit\\\n",
        "Toronto\\\n",
        "St Louis\\\n",
        "Omaha, NE\n",
        "\n",
        "\n",
        "I'll use this site to look it up: https://www.findmecity.com/\n",
        "\n",
        "Milwaukee: 2451822\\\n",
        "Detroit: 2391585 \\\n",
        "Toronto: 4118\\\n",
        "St. Louis: 2486982\\\n",
        "Omaha, NE: 2465512\n",
        "\n",
        "I'll switch Toronto's WOEID for that of Phoenix: 2471390\n",
        "\n",
        "I'll run this once, and then comment it out for now."
      ]
    },
    {
      "cell_type": "code",
      "metadata": {
        "colab": {
          "base_uri": "https://localhost:8080/"
        },
        "id": "9pVej1aQ2i6K",
        "outputId": "2d887dea-0113-4626-ce07-d39de8b414b2"
      },
      "source": [
        "# #dictionary of cities\n",
        "# cities = {'Milwaukee':'2451822', 'Detroit':'2391585', 'Toronto':'2471390', 'St. Louis':'2486982', 'Omaha':'2465512', 'Chicago':'2379574'} #phoenix for toronto\n",
        "\n",
        "# #empty list to enter these into:\n",
        "# values = []\n",
        "\n",
        "# #loop through cities\n",
        "# for k, v in cities.items():\n",
        "#   #loop through 3 months\n",
        "#   for mth in ['6']:\n",
        "#     #just do days through 30, it's not time series, I don't care\n",
        "#     for day in range(1, 15):\n",
        "#       #what to request\n",
        "#       strng = 'https://www.metaweather.com/api/location/' + v +'/2021/' + mth + '/' +str(day) + '/'\n",
        "#       if day == 1:\n",
        "#         print(strng)\n",
        "#       reqst = requests.get(strng)\n",
        "#       #get the pieces\n",
        "#       date = pd.to_datetime(pd.DataFrame(reqst.json()).max()['created']).date()\n",
        "#       maxtemp = pd.DataFrame(reqst.json()).max()['max_temp']\n",
        "#       values.append([k, date, maxtemp])\n",
        "#       time.sleep(3)\n",
        "\n",
        "\n",
        "\n"
      ],
      "execution_count": 4,
      "outputs": [
        {
          "output_type": "stream",
          "text": [
            "https://www.metaweather.com/api/location/2451822/2021/6/1/\n",
            "https://www.metaweather.com/api/location/2391585/2021/6/1/\n",
            "https://www.metaweather.com/api/location/2471390/2021/6/1/\n",
            "https://www.metaweather.com/api/location/2486982/2021/6/1/\n",
            "https://www.metaweather.com/api/location/2465512/2021/6/1/\n",
            "https://www.metaweather.com/api/location/2379574/2021/6/1/\n"
          ],
          "name": "stdout"
        }
      ]
    },
    {
      "cell_type": "code",
      "metadata": {
        "id": "BpFuwIRNwWJR"
      },
      "source": [
        "#pd.DataFrame(values).to_csv('Test.csv')"
      ],
      "execution_count": 6,
      "outputs": []
    },
    {
      "cell_type": "code",
      "metadata": {
        "id": "5viSSBuk8ySS",
        "colab": {
          "base_uri": "https://localhost:8080/"
        },
        "outputId": "29543b29-feb6-4879-b419-132f65d43063"
      },
      "source": [
        "!ls"
      ],
      "execution_count": 7,
      "outputs": [
        {
          "output_type": "stream",
          "text": [
            "gdrive\tsample_data  Test.csv\n"
          ],
          "name": "stdout"
        }
      ]
    },
    {
      "cell_type": "code",
      "metadata": {
        "id": "UPk1oOn1214M"
      },
      "source": [
        "!cp Test.csv gdrive/MyDrive"
      ],
      "execution_count": 8,
      "outputs": []
    },
    {
      "cell_type": "markdown",
      "metadata": {
        "id": "eIuJ3P4Fi_VM"
      },
      "source": [
        "## Loading in this data (once saved), and the model\n",
        "\n",
        "Now I can prep to predict, and see how different it really is."
      ]
    },
    {
      "cell_type": "code",
      "metadata": {
        "id": "eYL_Lcpo27Fq"
      },
      "source": [
        "#load in data\n",
        "df = pd.read_csv(r'/content/gdrive/MyDrive/ModelMonitoringBlog/Test.csv')\n",
        "#load in model\n",
        "model = pickle.load(open(r'/content/gdrive/MyDrive/ModelMonitoringBlog/weather_model.pkl', 'rb'))"
      ],
      "execution_count": 4,
      "outputs": []
    },
    {
      "cell_type": "code",
      "metadata": {
        "id": "ZUeQ_M9pNnxl"
      },
      "source": [
        "#Now, to rename the columns\n",
        "df.columns = ['drp', 'city', 'date', 'maxtemp']\n",
        "df.drop('drp', axis=1, inplace=True)"
      ],
      "execution_count": 5,
      "outputs": []
    },
    {
      "cell_type": "code",
      "metadata": {
        "id": "N-IUEcndUGvD"
      },
      "source": [
        "#reshape the data\n",
        "df = df.pivot(index='date', columns='city', values='maxtemp')"
      ],
      "execution_count": 7,
      "outputs": []
    },
    {
      "cell_type": "code",
      "metadata": {
        "colab": {
          "base_uri": "https://localhost:8080/",
          "height": 234
        },
        "id": "jzyqpjhzUI_r",
        "outputId": "8d4c4e2f-b717-4496-9e11-cf9229936a66"
      },
      "source": [
        "df.head()"
      ],
      "execution_count": 8,
      "outputs": [
        {
          "output_type": "execute_result",
          "data": {
            "text/html": [
              "<div>\n",
              "<style scoped>\n",
              "    .dataframe tbody tr th:only-of-type {\n",
              "        vertical-align: middle;\n",
              "    }\n",
              "\n",
              "    .dataframe tbody tr th {\n",
              "        vertical-align: top;\n",
              "    }\n",
              "\n",
              "    .dataframe thead th {\n",
              "        text-align: right;\n",
              "    }\n",
              "</style>\n",
              "<table border=\"1\" class=\"dataframe\">\n",
              "  <thead>\n",
              "    <tr style=\"text-align: right;\">\n",
              "      <th>city</th>\n",
              "      <th>Chicago</th>\n",
              "      <th>Detroit</th>\n",
              "      <th>Milwaukee</th>\n",
              "      <th>Omaha</th>\n",
              "      <th>St. Louis</th>\n",
              "      <th>Toronto</th>\n",
              "    </tr>\n",
              "    <tr>\n",
              "      <th>date</th>\n",
              "      <th></th>\n",
              "      <th></th>\n",
              "      <th></th>\n",
              "      <th></th>\n",
              "      <th></th>\n",
              "      <th></th>\n",
              "    </tr>\n",
              "  </thead>\n",
              "  <tbody>\n",
              "    <tr>\n",
              "      <th>2021-06-02</th>\n",
              "      <td>23.700</td>\n",
              "      <td>25.790</td>\n",
              "      <td>23.15</td>\n",
              "      <td>26.060</td>\n",
              "      <td>29.230</td>\n",
              "      <td>40.120</td>\n",
              "    </tr>\n",
              "    <tr>\n",
              "      <th>2021-06-03</th>\n",
              "      <td>24.420</td>\n",
              "      <td>24.910</td>\n",
              "      <td>22.73</td>\n",
              "      <td>27.475</td>\n",
              "      <td>28.090</td>\n",
              "      <td>41.715</td>\n",
              "    </tr>\n",
              "    <tr>\n",
              "      <th>2021-06-04</th>\n",
              "      <td>28.055</td>\n",
              "      <td>26.210</td>\n",
              "      <td>28.65</td>\n",
              "      <td>29.965</td>\n",
              "      <td>28.675</td>\n",
              "      <td>41.960</td>\n",
              "    </tr>\n",
              "    <tr>\n",
              "      <th>2021-06-05</th>\n",
              "      <td>30.675</td>\n",
              "      <td>30.885</td>\n",
              "      <td>31.51</td>\n",
              "      <td>33.610</td>\n",
              "      <td>30.565</td>\n",
              "      <td>42.410</td>\n",
              "    </tr>\n",
              "    <tr>\n",
              "      <th>2021-06-06</th>\n",
              "      <td>31.375</td>\n",
              "      <td>31.790</td>\n",
              "      <td>31.80</td>\n",
              "      <td>33.165</td>\n",
              "      <td>33.330</td>\n",
              "      <td>42.070</td>\n",
              "    </tr>\n",
              "  </tbody>\n",
              "</table>\n",
              "</div>"
            ],
            "text/plain": [
              "city        Chicago  Detroit  Milwaukee   Omaha  St. Louis  Toronto\n",
              "date                                                               \n",
              "2021-06-02   23.700   25.790      23.15  26.060     29.230   40.120\n",
              "2021-06-03   24.420   24.910      22.73  27.475     28.090   41.715\n",
              "2021-06-04   28.055   26.210      28.65  29.965     28.675   41.960\n",
              "2021-06-05   30.675   30.885      31.51  33.610     30.565   42.410\n",
              "2021-06-06   31.375   31.790      31.80  33.165     33.330   42.070"
            ]
          },
          "metadata": {
            "tags": []
          },
          "execution_count": 8
        }
      ]
    },
    {
      "cell_type": "markdown",
      "metadata": {
        "id": "kH-oonl3TkE-"
      },
      "source": [
        "Let's make a prediction."
      ]
    },
    {
      "cell_type": "code",
      "metadata": {
        "id": "4RNUi0-EULLs"
      },
      "source": [
        "predictions = model.predict(df.drop('Chicago', axis=1))"
      ],
      "execution_count": 12,
      "outputs": []
    },
    {
      "cell_type": "code",
      "metadata": {
        "colab": {
          "base_uri": "https://localhost:8080/"
        },
        "id": "0Kaqpf8BVBme",
        "outputId": "a7b493e1-9f4e-419b-f1c0-98870e55d197"
      },
      "source": [
        "df['Chicago'] - predictions"
      ],
      "execution_count": 13,
      "outputs": [
        {
          "output_type": "execute_result",
          "data": {
            "text/plain": [
              "date\n",
              "2021-06-02    0.252094\n",
              "2021-06-03    1.663958\n",
              "2021-06-04    1.463601\n",
              "2021-06-05    0.412679\n",
              "2021-06-06    0.194342\n",
              "2021-06-07    1.332528\n",
              "2021-06-08    0.825372\n",
              "2021-06-09    0.262758\n",
              "2021-06-10   -1.233267\n",
              "2021-06-11   -0.465028\n",
              "2021-06-12   -0.681110\n",
              "2021-06-13   -0.408895\n",
              "2021-06-14   -0.015240\n",
              "2021-06-15    0.750277\n",
              "Name: Chicago, dtype: float64"
            ]
          },
          "metadata": {
            "tags": []
          },
          "execution_count": 13
        }
      ]
    },
    {
      "cell_type": "markdown",
      "metadata": {
        "id": "BxAHaoiyjE6o"
      },
      "source": [
        "## Evidently\n",
        "\n",
        "In order to generate reports, I will need to load in the old data:\n"
      ]
    },
    {
      "cell_type": "code",
      "metadata": {
        "colab": {
          "base_uri": "https://localhost:8080/"
        },
        "id": "b3wEXqX7h7Bf",
        "outputId": "32278cdc-eb74-47a7-979d-0ccd7844b364"
      },
      "source": [
        "#re creating the dictionary above \n",
        "cities = {'Milwaukee':'2451822', 'Detroit':'2391585', 'Toronto':'4118', 'St. Louis':'2486982', 'Omaha':'2465512', 'Chicago':'2379574'}\n",
        "\n",
        "df_old = pd.DataFrame()\n",
        "\n",
        "for i in cities.keys():\n",
        "  if i == 'St. Louis':\n",
        "    i = 'St_Louis'\n",
        "  pth = \"gdrive/MyDrive/ModelMonitoringBlog/\" + i + \".csv\"\n",
        "  print(pth)\n",
        "  to_append = pd.read_csv(pth)\n",
        "  #print(to_append.head())\n",
        "  if df_old.empty:\n",
        "    df_old = to_append\n",
        "    print(df_old.empty)\n",
        "  else:\n",
        "    df_old = pd.concat([df_old, to_append], ignore_index=True)\n",
        "  \n"
      ],
      "execution_count": 15,
      "outputs": [
        {
          "output_type": "stream",
          "text": [
            "gdrive/MyDrive/ModelMonitoringBlog/Milwaukee.csv\n",
            "False\n",
            "gdrive/MyDrive/ModelMonitoringBlog/Detroit.csv\n",
            "gdrive/MyDrive/ModelMonitoringBlog/Toronto.csv\n",
            "gdrive/MyDrive/ModelMonitoringBlog/St_Louis.csv\n",
            "gdrive/MyDrive/ModelMonitoringBlog/Omaha.csv\n",
            "gdrive/MyDrive/ModelMonitoringBlog/Chicago.csv\n"
          ],
          "name": "stdout"
        }
      ]
    },
    {
      "cell_type": "code",
      "metadata": {
        "id": "GpmFh0JgiNoT"
      },
      "source": [
        "#Now, to rename the columns\n",
        "df_old.columns = ['drp', 'city', 'date', 'maxtemp']\n",
        "df_old.drop('drp', axis=1, inplace=True)\n",
        "df_old = df_old.pivot(index='date', columns='city', values='maxtemp')"
      ],
      "execution_count": 16,
      "outputs": []
    },
    {
      "cell_type": "code",
      "metadata": {
        "id": "KZMkaM8wjF_a"
      },
      "source": [
        "weather_data_drift_report = Dashboard(tabs=[DataDriftTab])\n",
        "weather_data_drift_report.calculate(df_old.drop('Chicago', axis=1), df.drop('Chicago', axis=1), column_mapping = None)\n",
        "weather_data_drift_report.save(\"gdrive/MyDrive/ModelMonitoringBlog/reports/my_report_with_2_tabs.html\")\n"
      ],
      "execution_count": 25,
      "outputs": []
    },
    {
      "cell_type": "markdown",
      "metadata": {
        "id": "o_jwAyV2i9bT"
      },
      "source": [
        "Even though this code is almost directly from their example, I had to find where CatTargetDriftTab is (though I quickly remembered it wasn't applicable with this data).  This does seem super easy!  But it does seem like you'd need some old data, so this wouldn't necessarily be great for an ongoing use case.\n",
        "\n",
        "Also, as I am (possibly?) on windows in Colab, I cannot directly build this in the notebook."
      ]
    },
    {
      "cell_type": "code",
      "metadata": {
        "colab": {
          "base_uri": "https://localhost:8080/",
          "height": 621
        },
        "id": "Ikih03ipiYhO",
        "outputId": "3adf2503-55d7-4739-9a24-3c83a87ae747"
      },
      "source": [
        "\n",
        "IFrame(src=\"gdrive/MyDrive/ModelMonitoringBlog/reports/my_report_with_2_tabs.html\", width=700, height=600)\n",
        "\n"
      ],
      "execution_count": 27,
      "outputs": [
        {
          "output_type": "execute_result",
          "data": {
            "text/html": [
              "\n",
              "        <iframe\n",
              "            width=\"700\"\n",
              "            height=\"600\"\n",
              "            src=\"gdrive/MyDrive/ModelMonitoringBlog/reports/my_report_with_2_tabs.html\"\n",
              "            frameborder=\"0\"\n",
              "            allowfullscreen\n",
              "        ></iframe>\n",
              "        "
            ],
            "text/plain": [
              "<IPython.lib.display.IFrame at 0x7fcf67fb56d0>"
            ]
          },
          "metadata": {
            "tags": []
          },
          "execution_count": 27
        }
      ]
    },
    {
      "cell_type": "markdown",
      "metadata": {
        "id": "tGM2I027lluT"
      },
      "source": [
        "It seems to detect an issue in each one, which makes sense, as it is comparing June to other months.  I will look later at taking a sample from Feb-May of the previous year to predict.  However, it only says if drift is detected or not detected, and the charts do leave some room for interpretation - it isn't always clear what the axes of each are!"
      ]
    },
    {
      "cell_type": "code",
      "metadata": {
        "id": "_Z3KaxISkx1o"
      },
      "source": [
        "# #dictionary of cities\n",
        "# cities = {'Milwaukee':'2451822', 'Detroit':'2391585', 'Toronto':'2471390', 'St. Louis':'2486982', 'Omaha':'2465512', 'Chicago':'2379574'} #phoenix for toronto\n",
        "\n",
        "# #empty list to enter these into:\n",
        "# values = []\n",
        "\n",
        "# #loop through cities\n",
        "# for k, v in cities.items():\n",
        "#   #loop through 3 months\n",
        "#   for mth in ['3','4','5']:\n",
        "#     #just do days through 10, it's not time series, I don't care\n",
        "#     for day in range(1, 10):\n",
        "#       #what to request\n",
        "#       strng = 'https://www.metaweather.com/api/location/' + v +'/2020/' + mth + '/' +str(day) + '/'\n",
        "#       if day == 1:\n",
        "#         print(strng)\n",
        "#       reqst = requests.get(strng)\n",
        "#       #get the pieces\n",
        "#       date = pd.to_datetime(pd.DataFrame(reqst.json()).max()['created']).date()\n",
        "#       maxtemp = pd.DataFrame(reqst.json()).max()['max_temp']\n",
        "#       values.append([k, date, maxtemp])\n",
        "#       time.sleep(3)\n",
        "\n",
        "\n",
        "# pd.DataFrame(values).to_csv('Weather2020.csv')\n"
      ],
      "execution_count": 31,
      "outputs": []
    },
    {
      "cell_type": "code",
      "metadata": {
        "colab": {
          "base_uri": "https://localhost:8080/"
        },
        "id": "GDtxCQF6rQW1",
        "outputId": "9c623b33-bb26-49c6-f9e2-b3adae14a374"
      },
      "source": [
        "#!ls"
      ],
      "execution_count": 29,
      "outputs": [
        {
          "output_type": "stream",
          "text": [
            "gdrive\treports  sample_data  Weather2020.csv\n"
          ],
          "name": "stdout"
        }
      ]
    },
    {
      "cell_type": "code",
      "metadata": {
        "id": "5oci1l10oQki"
      },
      "source": [
        "#!cp Weather2020.csv gdrive/MyDrive/ModelMonitoringBlog/"
      ],
      "execution_count": 30,
      "outputs": []
    },
    {
      "cell_type": "code",
      "metadata": {
        "id": "FjDtpKmCrZ0G"
      },
      "source": [
        ""
      ],
      "execution_count": null,
      "outputs": []
    }
  ]
}